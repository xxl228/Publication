{
 "cells": [
  {
   "cell_type": "code",
   "execution_count": 178,
   "id": "00838d55-69ee-43a6-a80a-bffab4b09997",
   "metadata": {},
   "outputs": [],
   "source": [
    "import pandas as pd\n",
    "import PyPDF2\n",
    "import openai\n",
    "from openai import OpenAI \n",
    "import os\n",
    "import csv \n",
    "import json\n",
    "import re\n",
    "import time\n",
    "\n",
    "from dotenv import load_dotenv, find_dotenv\n",
    "_ = load_dotenv(find_dotenv())\n",
    "\n",
    "\n",
    "# openai_api_key  = os.environ['OPENAI_API_KEY']\n",
    "\n",
    "\n",
    "openai_api_key = os.getenv('your_api_key')\n",
    "if not openai_api_key:\n",
    "    raise ValueError(\"❌ OPENAI_API_KEY not found in environment.\")"
   ]
  },
  {
   "cell_type": "code",
   "execution_count": 179,
   "id": "66f6c3af-eab9-4d6f-8cae-4d9d6c472886",
   "metadata": {},
   "outputs": [],
   "source": [
    "#Syllabi file location \n",
    "pdf_file_path= 'your_file_path'\n",
    "#EXtract text from PDF\n",
    "def extract_text(pdf_file_path):\n",
    "    text= ''\n",
    "    with open(pdf_file_path, 'rb') as pdf_file:\n",
    "        pdf_reader = PyPDF2.PdfReader(pdf_file)\n",
    "        num_pages = len(pdf_reader.pages)\n",
    "\n",
    "        for page_number in range(num_pages):\n",
    "            page = pdf_reader.pages[page_number]\n",
    "            text += page.extract_text()    \n",
    "\n",
    "    return text"
   ]
  },
  {
   "cell_type": "code",
   "execution_count": 180,
   "id": "25168b6c-4171-48df-b047-510024024f62",
   "metadata": {},
   "outputs": [],
   "source": [
    "# Store extradcted text\n",
    "extracted_text = extract_text(pdf_file_path)"
   ]
  },
  {
   "cell_type": "code",
   "execution_count": 181,
   "id": "ae6dc33e-d208-4f4b-9c69-d9c405a94b02",
   "metadata": {},
   "outputs": [],
   "source": [
    "# Answer File Location\n",
    "answer_file_path = 'your_file_path'\n",
    "answer_df=pd.read_csv(answer_file_path)"
   ]
  },
  {
   "cell_type": "code",
   "execution_count": 182,
   "id": "60923e43-0a63-4552-93a2-070bf80fc97a",
   "metadata": {},
   "outputs": [
    {
     "data": {
      "text/html": [
       "<div>\n",
       "<style scoped>\n",
       "    .dataframe tbody tr th:only-of-type {\n",
       "        vertical-align: middle;\n",
       "    }\n",
       "\n",
       "    .dataframe tbody tr th {\n",
       "        vertical-align: top;\n",
       "    }\n",
       "\n",
       "    .dataframe thead th {\n",
       "        text-align: right;\n",
       "    }\n",
       "</style>\n",
       "<table border=\"1\" class=\"dataframe\">\n",
       "  <thead>\n",
       "    <tr style=\"text-align: right;\">\n",
       "      <th></th>\n",
       "      <th>Category</th>\n",
       "      <th>Subcategory</th>\n",
       "      <th>Specifics</th>\n",
       "      <th>SpecificsExplained</th>\n",
       "      <th>Id</th>\n",
       "      <th>Size</th>\n",
       "    </tr>\n",
       "  </thead>\n",
       "  <tbody>\n",
       "    <tr>\n",
       "      <th>0</th>\n",
       "      <td>Engagement Opportunities</td>\n",
       "      <td>Course Materials</td>\n",
       "      <td>List reading materials</td>\n",
       "      <td>List required reading materials for the coruse</td>\n",
       "      <td>List-reading-materials</td>\n",
       "      <td>1</td>\n",
       "    </tr>\n",
       "    <tr>\n",
       "      <th>1</th>\n",
       "      <td>Engagement Opportunities</td>\n",
       "      <td>Pedagogy</td>\n",
       "      <td>In-class discussion</td>\n",
       "      <td>Have in-class discussion activities</td>\n",
       "      <td>In-class-discussion</td>\n",
       "      <td>1</td>\n",
       "    </tr>\n",
       "    <tr>\n",
       "      <th>2</th>\n",
       "      <td>Engagement Opportunities</td>\n",
       "      <td>Pedagogy</td>\n",
       "      <td>Out-of-class discussion</td>\n",
       "      <td>Have out-of-class discussion activities such a...</td>\n",
       "      <td>Out-of-class-discussion</td>\n",
       "      <td>1</td>\n",
       "    </tr>\n",
       "    <tr>\n",
       "      <th>3</th>\n",
       "      <td>Engagement Opportunities</td>\n",
       "      <td>Use of Technology</td>\n",
       "      <td>Frequent use of LMS</td>\n",
       "      <td>Uses LMS frequently for the course</td>\n",
       "      <td>Frequent-use-of-LMS</td>\n",
       "      <td>1</td>\n",
       "    </tr>\n",
       "    <tr>\n",
       "      <th>4</th>\n",
       "      <td>Engagement Opportunities</td>\n",
       "      <td>Pedagogy</td>\n",
       "      <td>Connect to authentic examples</td>\n",
       "      <td>Encoruage students to connect course content w...</td>\n",
       "      <td>Connect-to-authentic-examples</td>\n",
       "      <td>1</td>\n",
       "    </tr>\n",
       "  </tbody>\n",
       "</table>\n",
       "</div>"
      ],
      "text/plain": [
       "                   Category        Subcategory                      Specifics  \\\n",
       "0  Engagement Opportunities  Course Materials          List reading materials   \n",
       "1  Engagement Opportunities           Pedagogy            In-class discussion   \n",
       "2  Engagement Opportunities           Pedagogy        Out-of-class discussion   \n",
       "3  Engagement Opportunities  Use of Technology            Frequent use of LMS   \n",
       "4  Engagement Opportunities           Pedagogy  Connect to authentic examples   \n",
       "\n",
       "                                  SpecificsExplained  \\\n",
       "0    List required reading materials for the coruse    \n",
       "1               Have in-class discussion activities    \n",
       "2  Have out-of-class discussion activities such a...   \n",
       "3                Uses LMS frequently for the course    \n",
       "4  Encoruage students to connect course content w...   \n",
       "\n",
       "                              Id  Size  \n",
       "0         List-reading-materials     1  \n",
       "1            In-class-discussion     1  \n",
       "2        Out-of-class-discussion     1  \n",
       "3            Frequent-use-of-LMS     1  \n",
       "4  Connect-to-authentic-examples     1  "
      ]
     },
     "execution_count": 182,
     "metadata": {},
     "output_type": "execute_result"
    }
   ],
   "source": [
    "answer_df.head()"
   ]
  },
  {
   "cell_type": "code",
   "execution_count": 183,
   "id": "643159f7-2197-4d92-ae6b-533d8a19fd15",
   "metadata": {},
   "outputs": [],
   "source": [
    "questions_eo={\n",
    "    \"q_eo1\": \"Is there a list of reading materials that will be used/discussed in class?\",\n",
    "    \"q_eo2\": \"Does it have any in-class discussions or activities that involve discussion?\",\n",
    "    \"q_eo3\": \"Does it have any out-of-class discussion activities? (e.g. Discussion board, Packback)\",\n",
    "    \"q_eo4\": \"Is a Learning Management System (e.g. Canvas or Blackboard) used frequently in the course?\",\n",
    "    \"q_eo5\": \"Does the course explore real-world problems related to class content?\",\n",
    "    \"q_eo6\": \"Does it describe assingments or class activities that encourage students to ask questions and use course content to create projects?\",\n",
    "    \"q_eo7\": \"Are there any in-class assessment of learning opportunities, such as using Tophat or Clicker for polling?\", \n",
    "    \"q_eo8\": \"Is there any extra credit opportunities for this class?\",\n",
    "    \"q_eo9\": \"Are quizzes and exams adopt short answer or essey questions mainly to engage students?\", \n",
    "    \"q_eo10\": \"Does the course objectives/description connect to real-life situations?\",\n",
    "    \"q_eo11\": \"Are the course objectives/goals concrete and achievable to students?\",\n",
    "    \"q_eo12\": \"Can the course objective/goals be useful outside of the course?\"\n",
    "}"
   ]
  },
  {
   "cell_type": "code",
   "execution_count": 184,
   "id": "1006af91-0749-4cd2-ab08-083d91e025ea",
   "metadata": {},
   "outputs": [],
   "source": [
    "#revised prompt\n",
    "client = openai.OpenAI()\n",
    "\n",
    "def ask_questions(questions, text):\n",
    "    for question in questions:\n",
    "        prompt = f'''\n",
    "        Instructions:\n",
    "        You are a curriculum evaluator. Your task is to evaluate the elements of inclusive teaching in a syllabus by answering predefined questions. \n",
    "        You will need to read the text from beginning to end. You will respond to these questions related to elements of inclusive teaching with [Yes, No] as the final answer.\n",
    "        A careful decision must be made, and no other output is accepted. Input questions will be in a JSON container. \n",
    "        Output answers will also be in a mandatory JSON format using only curly brackets. Do not include any other symbols or words in the answers.\n",
    "        \n",
    "        --- IMPORTANT --- \n",
    "        You are only assessing the **current document provided**.  \n",
    "        1️⃣ You **must not** refer to or remember any previous document.  \n",
    "        2️⃣ Your answers should be **exclusively based** on the evidence found in **this document**.  \n",
    "        3️⃣ If you do not find the evidence, respond with \"No\" and cite \"Not found in the document.\"  \n",
    "\n",
    "        --- FORMAT RULES --- \n",
    "        - Answer each question with \"Yes\" or \"No\" based solely on the content of the document.  \n",
    "        - For each answer, provide a `reference` that points directly to the content in the document that supports your decision.  \n",
    "        - If the answer is \"No,\" still provide a `reference` indicating that the evidence is not present.  \n",
    "\n",
    "        \n",
    "        Example output format:\n",
    "            Input: {{\"question 1\": \"Is the language in this document inclusive?\", \"question 2\": \"Are there additional free materials listed for the course?\",...}}\n",
    "            Output: {{\"q_eo1\": {{\"answer\": \"Yes\", \"reference\": \"Textbook reference or details here\"}}, \"q_eo2\": {{\"answer\": \"No\", \"reference\": \"Details if any or 'None'\"}},...}}\n",
    "\n",
    "        \n",
    "        --- VERIFICATION STEP ---  \n",
    "        After processing each question, **double-check the evidence found** in the document to ensure it matches your answer.  \n",
    "        - If you identify any inconsistency or error during verification, **correct it immediately** before moving to the next question.  \n",
    "        - Only provide final output when you are confident the answers are accurate and directly evidence-based.\n",
    "\n",
    "        --- CAUTION ---  \n",
    "        Do not assume any context from previous documents. This is a fresh evaluation. All evidence must be contained in the provided text.\n",
    "        '''\n",
    "        messages = [\n",
    "            {\"role\": \"system\", \"content\": prompt},\n",
    "            {\"role\": \"user\", \"content\": f\"Document Content: {text}\\n Questions: {questions}\"},\n",
    "        ]\n",
    "        # get answers from gpt\n",
    "        response = client.chat.completions.create(\n",
    "            model=\"gpt-4o-mini\",  # or use gpt-4-1106-preview for better result\n",
    "            messages=messages,\n",
    "            temperature=0,\n",
    "        )\n",
    "        time.sleep(1.5)  # Adjust this value if needed\n",
    "        answer = response.choices[0].message.content\n",
    "    return answer\n",
    "        "
   ]
  },
  {
   "cell_type": "code",
   "execution_count": 185,
   "id": "2e751074-a808-45d8-9a79-3893afa3bbdf",
   "metadata": {},
   "outputs": [
    {
     "name": "stdout",
     "output_type": "stream",
     "text": [
      "{\n",
      "    \"q_eo1\": {\"answer\": \"No\", \"reference\": \"Not found in the document.\"},\n",
      "    \"q_eo2\": {\"answer\": \"Yes\", \"reference\": \"Many classes will be discussion-based.\"},\n",
      "    \"q_eo3\": {\"answer\": \"Yes\", \"reference\": \"Weekly assignments will provide practice on what has been discussed in the course.\"},\n",
      "    \"q_eo4\": {\"answer\": \"Yes\", \"reference\": \"There will be a schedule of these meetings on Canvas.\"},\n",
      "    \"q_eo5\": {\"answer\": \"Yes\", \"reference\": \"The project will involve investigating and proposing enhancements to the department’s curriculum.\"},\n",
      "    \"q_eo6\": {\"answer\": \"Yes\", \"reference\": \"Assignments from the first week of the semester will guide students in the process of finding a problem and addressing it.\"},\n",
      "    \"q_eo7\": {\"answer\": \"No\", \"reference\": \"Not found in the document.\"},\n",
      "    \"q_eo8\": {\"answer\": \"No\", \"reference\": \"Not found in the document.\"},\n",
      "    \"q_eo9\": {\"answer\": \"No\", \"reference\": \"Not found in the document.\"},\n",
      "    \"q_eo10\": {\"answer\": \"Yes\", \"reference\": \"Students will explore modern research topics and career opportunities.\"},\n",
      "    \"q_eo11\": {\"answer\": \"Yes\", \"reference\": \"The grading scheme is designed to allow effective feedback on assignments.\"},\n",
      "    \"q_eo12\": {\"answer\": \"Yes\", \"reference\": \"The course will develop broadly applicable skills such as the use of LaTeX and programming for data analysis.\"}\n",
      "}\n"
     ]
    }
   ],
   "source": [
    "answers_eo_json=ask_questions(questions_eo, extracted_text)\n",
    "print(answers_eo_json)"
   ]
  },
  {
   "cell_type": "code",
   "execution_count": 186,
   "id": "1dd6cf5c-ed1a-45c0-9669-3b9e9f863889",
   "metadata": {},
   "outputs": [
    {
     "name": "stdout",
     "output_type": "stream",
     "text": [
      "{\n",
      "  \"q_eo1\": \"No\",\n",
      "  \"q_eo2\": \"Yes\",\n",
      "  \"q_eo3\": \"Yes\",\n",
      "  \"q_eo4\": \"Yes\",\n",
      "  \"q_eo5\": \"Yes\",\n",
      "  \"q_eo6\": \"Yes\",\n",
      "  \"q_eo7\": \"No\",\n",
      "  \"q_eo8\": \"No\",\n",
      "  \"q_eo9\": \"No\",\n",
      "  \"q_eo10\": \"Yes\",\n",
      "  \"q_eo11\": \"Yes\",\n",
      "  \"q_eo12\": \"Yes\"\n",
      "}\n"
     ]
    }
   ],
   "source": [
    "answers_eo_dic=json.loads(answers_eo_json)\n",
    "answers_eo_YN={key: value[\"answer\"] for key, value in answers_eo_dic.items()}\n",
    "answers_eo_YN=json.dumps(answers_eo_YN, indent=2)\n",
    "print(answers_eo_YN)"
   ]
  },
  {
   "cell_type": "code",
   "execution_count": 187,
   "id": "397a61f4-4f54-468e-9298-4b8d44944fb2",
   "metadata": {},
   "outputs": [
    {
     "name": "stdout",
     "output_type": "stream",
     "text": [
      "[0, 1, 1, 1, 1, 1, 0, 0, 0, 1, 1, 1]\n"
     ]
    }
   ],
   "source": [
    "answers_eo_boolean=[]\n",
    "answer_eo=json.loads(answers_eo_YN)\n",
    "for value in answer_eo.values():\n",
    "    if value.lower() == \"yes\":\n",
    "        answers_eo_boolean.append(1)\n",
    "    elif value.lower() == \"no\":\n",
    "        answers_eo_boolean.append(0)\n",
    "print(answers_eo_boolean)"
   ]
  },
  {
   "cell_type": "code",
   "execution_count": 188,
   "id": "006e8b96-9435-4094-a21d-8901361e0539",
   "metadata": {},
   "outputs": [],
   "source": [
    "questions_ex={\n",
    "    \"q_ex1\": \"Does it contain learning material in addition to the required text?\",\n",
    "    \"q_ex2\": \"Are there any opportunities allow students to explore topics that interest them?\", \n",
    "    \"q_ex3\": \"Does the course explore real-world problems related to class content?\",\n",
    "    \"q_ex4\": \"Is there any evidence of interdiciplinary exploration? such as opportunities in connecting ideas, disciplines, perspectives, contexts. \\\n",
    "            Or does it use the following verbs in the description Associate, Concept map, Connect, Differentiate, Relate, Combine, Contrast/ compare, Correlate, Link, Synthesize\",\n",
    "    \"q_ex5\": \"Are there any learning opportunities that allow students to engage with course material and content at a deeper level (e.g. reflections, writing, projects)?\",\n",
    "    \"q_ex6\": \"Are there any examples used in the course that provide real life examples?\"\n",
    "}"
   ]
  },
  {
   "cell_type": "code",
   "execution_count": 189,
   "id": "0cb07853-992e-445d-8424-9dc88c178ebb",
   "metadata": {},
   "outputs": [],
   "source": [
    "def ask_questions(questions, text):\n",
    "\n",
    "\n",
    "    for question in questions:\n",
    "        prompt = f'''\n",
    "        Instructions:\n",
    "        Instructions:\n",
    "        You are a curriculum evaluator. Your task is to evaluate the elements of inclusive teaching in a syllabus by answering predefined questions. \n",
    "        You will need to read the text from beginning to end. You will respond to these questions related to elements of inclusive teaching with [Yes, No] as the final answer.\n",
    "        A careful decision must be made, and no other output is accepted. Input questions will be in a JSON container. \n",
    "        Output answers will also be in a mandatory JSON format using only curly brackets. Do not include any other symbols or words in the answers.\n",
    "        \n",
    "        --- IMPORTANT --- \n",
    "        You are only assessing the **current document provided**.  \n",
    "        1️⃣ You **must not** refer to or remember any previous document.  \n",
    "        2️⃣ Your answers should be **exclusively based** on the evidence found in **this document**.  \n",
    "        3️⃣ If you do not find the evidence, respond with \"No\" and cite \"Not found in the document.\"  \n",
    "\n",
    "        --- FORMAT RULES --- \n",
    "        - Answer each question with \"Yes\" or \"No\" based solely on the content of the document.  \n",
    "        - For each answer, provide a `reference` that points directly to the content in the document that supports your decision.  \n",
    "        - If the answer is \"No,\" still provide a `reference` indicating that the evidence is not present.  \n",
    "\n",
    "        \n",
    "        Example output format:\n",
    "            Input: {{\"question 1\": \"Is the language in this document inclusive?\", \"question 2\": \"Are there additional free materials listed for the course?\",...}}\n",
    "            Output: {{\"q_eo1\": {{\"answer\": \"Yes\", \"reference\": \"Textbook reference or details here\"}}, \"q_eo2\": {{\"answer\": \"No\", \"reference\": \"Details if any or 'None'\"}},...}}\n",
    "\n",
    "        \n",
    "        --- VERIFICATION STEP ---  \n",
    "        After processing each question, **double-check the evidence found** in the document to ensure it matches your answer.  \n",
    "        - If you identify any inconsistency or error during verification, **correct it immediately** before moving to the next question.  \n",
    "        - Only provide final output when you are confident the answers are accurate and directly evidence-based.\n",
    "\n",
    "        --- CAUTION ---  \n",
    "        Do not assume any context from previous documents. This is a fresh evaluation. All evidence must be contained in the provided text.\n",
    "        '''\n",
    "        \n",
    "        messages=[\n",
    "                {\"role\": \"system\", \"content\": prompt},\n",
    "                {\"role\": \"user\", \"content\": f\"Document Content: {extracted_text}\\n Question about the document: {questions}\"},\n",
    "            ]\n",
    "        #get answers from gpt\n",
    "        response=client.chat.completions.create(\n",
    "            model=\"gpt-4o-mini\", # or use gpt-3.5 for lower cost\n",
    "            messages=messages,\n",
    "            seed=123,\n",
    "            temperature=0,\n",
    "        )\n",
    "        \n",
    "        time.sleep(1.5)  # Adjust this value if needed\n",
    "        answer=response.choices[0].message.content\n",
    "\n",
    "    return answer    \n",
    "        "
   ]
  },
  {
   "cell_type": "code",
   "execution_count": 190,
   "id": "a85637f8-ec7b-42b8-9b40-de1aa15a57e0",
   "metadata": {},
   "outputs": [
    {
     "name": "stdout",
     "output_type": "stream",
     "text": [
      "{\n",
      "    \"q_ex1\": {\"answer\": \"No\", \"reference\": \"Not found in the document.\"},\n",
      "    \"q_ex2\": {\"answer\": \"Yes\", \"reference\": \"Students will explore modern research topics and career opportunities.\"},\n",
      "    \"q_ex3\": {\"answer\": \"Yes\", \"reference\": \"The course project will involve investigating and proposing enhancements to the physics curriculum, informed by interviews with industry professionals.\"},\n",
      "    \"q_ex4\": {\"answer\": \"No\", \"reference\": \"Not found in the document.\"},\n",
      "    \"q_ex5\": {\"answer\": \"Yes\", \"reference\": \"Weekly assignments will develop broadly applicable skills and involve a major collaborative project.\"},\n",
      "    \"q_ex6\": {\"answer\": \"Yes\", \"reference\": \"The course project will involve investigating and proposing enhancements to the department’s curriculum, informed by interviews with industry professionals.\"}\n",
      "}\n"
     ]
    }
   ],
   "source": [
    "answers_ex_json=ask_questions(questions_ex, extracted_text)\n",
    "print(answers_ex_json)"
   ]
  },
  {
   "cell_type": "code",
   "execution_count": 191,
   "id": "d87302ea-19ff-4aa8-bad5-170366a0020a",
   "metadata": {},
   "outputs": [
    {
     "name": "stdout",
     "output_type": "stream",
     "text": [
      "{\n",
      "  \"q_ex1\": \"No\",\n",
      "  \"q_ex2\": \"Yes\",\n",
      "  \"q_ex3\": \"Yes\",\n",
      "  \"q_ex4\": \"No\",\n",
      "  \"q_ex5\": \"Yes\",\n",
      "  \"q_ex6\": \"Yes\"\n",
      "}\n"
     ]
    }
   ],
   "source": [
    "answers_ex_dic=json.loads(answers_ex_json)\n",
    "answers_ex_YN={key: value[\"answer\"] for key, value in answers_ex_dic.items()}\n",
    "answers_ex_YN=json.dumps(answers_ex_YN, indent=2)\n",
    "print(answers_ex_YN)"
   ]
  },
  {
   "cell_type": "code",
   "execution_count": 192,
   "id": "070375c1-a3c5-4294-87e6-b5b4ca49e3b3",
   "metadata": {},
   "outputs": [
    {
     "name": "stdout",
     "output_type": "stream",
     "text": [
      "[0, 1, 1, 0, 1, 1]\n"
     ]
    }
   ],
   "source": [
    "answers_ex_boolean=[]\n",
    "answer_ex=json.loads(answers_ex_YN)\n",
    "for value in answer_ex.values():\n",
    "    if value.lower() == \"yes\":\n",
    "        answers_ex_boolean.append(1)\n",
    "    elif value.lower() == \"no\":\n",
    "        answers_ex_boolean.append(0)\n",
    "print(answers_ex_boolean)"
   ]
  },
  {
   "cell_type": "code",
   "execution_count": 193,
   "id": "065ee8d8-4a40-4454-8978-ac4cb5491a39",
   "metadata": {},
   "outputs": [],
   "source": [
    "questions_gm={ \n",
    "    \"q_gm1\":\"Does the syllabus contain language normalizes challenges in this course? It contains language that the instructor beleives students can be successful regardless of the challenges,\\\n",
    "            or share personal or other students' stories of being challenged but succeeded in a course or program in the past. Language related to recognizing student having life situations happening to them does not meet this requirement.\",\n",
    "    \"q_gm2\":\"Is there any opportunity for self-check or practice quizzes and/or exams?\",\n",
    "    \"q_gm3\":\"Do quizzes and/or exams have multiple attempts?\",\n",
    "    \"q_gm4\":\"For writing assingments (e.g. essays, reports, reflections, papers) given in the course, do students have opportunities to get feedback for improvement before receiving the final grades?\",\n",
    "    \"q_gm5\":\"For individual/group projects given in the course, do students have opportunities to get feedback for improvements before receiving the final grades?\",\n",
    "    \"q_gm6\":\"Is there frequent knowledge checks (e.g. homeworks, in-class writing, quizzes, etc.) to assess learning beyond midterm and final exam and final projects?\",\n",
    "    \"q_gm7\":\"Is there any introspective learning opportunities, such as short writing assingments or reflection beyond exams?\",\n",
    "    \"q_gm8\":\"Is there any collaborative learning opportunities(e.g. group projects, peer-grading) for students to learn from their peers?\",\n",
    "    \"q_gm9\":\"Does this syllabus include course objectives that use action verbs (i.e., sketch, solve, train, use, etc.)?\",\n",
    "    \"q_gm10\":\"Do the course objectives seem to promote a focus on learning (e.g., use student centered language, use supportive and collaborative language, encourage students to see challenge as opportunity, use words like 'learning' and 'knowledge', etc.)?\",\n",
    "    \"q_gm11\":\"Outside of course objectives, overall, does it appear that students are encouraged to engage with the course material for the sake of learning?\"\n",
    "}"
   ]
  },
  {
   "cell_type": "code",
   "execution_count": 194,
   "id": "08298922-6648-470d-8731-4177bd9f65cd",
   "metadata": {},
   "outputs": [],
   "source": [
    "def ask_questions(questions, text):\n",
    "\n",
    "\n",
    "    for question in questions:\n",
    "        prompt=f'''\n",
    "        Instructions:\n",
    "        You are a curriculum evaluator. Your task is to evaluate the elements of inclusive teaching in a syllabus by answering predefined questions. \n",
    "        You will need to read the text from beginning to end. You will respond to these questions related to elements of inclusive teaching with [Yes, No] as the final answer.\n",
    "        A careful decision must be made, and no other output is accepted. Input questions will be in a JSON container. \n",
    "        Output answers will also be in a mandatory JSON format using only curly brackets. Do not include any other symbols or words in the answers.\n",
    "        \n",
    "        --- IMPORTANT --- \n",
    "        You are only assessing the **current document provided**.  \n",
    "        1️⃣ You **must not** refer to or remember any previous document.  \n",
    "        2️⃣ Your answers should be **exclusively based** on the evidence found in **this document**.  \n",
    "        3️⃣ If you do not find the evidence, respond with \"No\" and cite \"Not found in the document.\"  \n",
    "\n",
    "        --- FORMAT RULES --- \n",
    "        - Answer each question with \"Yes\" or \"No\" based solely on the content of the document.  \n",
    "        - For each answer, provide a `reference` that points directly to the content in the document that supports your decision.  \n",
    "        - If the answer is \"No,\" still provide a `reference` indicating that the evidence is not present.  \n",
    "\n",
    "        \n",
    "        Example output format:\n",
    "            Input: {{\"question 1\": \"Is the language in this document inclusive?\", \"question 2\": \"Are there additional free materials listed for the course?\",...}}\n",
    "            Output: {{\"q_eo1\": {{\"answer\": \"Yes\", \"reference\": \"Textbook reference or details here\"}}, \"q_eo2\": {{\"answer\": \"No\", \"reference\": \"Details if any or 'None'\"}},...}}\n",
    "\n",
    "        \n",
    "        --- VERIFICATION STEP ---  \n",
    "        After processing each question, **double-check the evidence found** in the document to ensure it matches your answer.  \n",
    "        - If you identify any inconsistency or error during verification, **correct it immediately** before moving to the next question.  \n",
    "        - Only provide final output when you are confident the answers are accurate and directly evidence-based.\n",
    "\n",
    "        --- CAUTION ---  \n",
    "        Do not assume any context from previous documents. This is a fresh evaluation. All evidence must be contained in the provided text.        \n",
    "        '''\n",
    "        messages=[\n",
    "                {\"role\": \"system\", \"content\": prompt},\n",
    "                {\"role\": \"user\", \"content\": f\"Document Content: {extracted_text}\\n Question about the document: {questions}\"},\n",
    "            ]\n",
    "        #get answers from gpt\n",
    "        response=client.chat.completions.create(\n",
    "            model=\"gpt-4o-mini\", # or use gpt-4-1106-preview for better result\n",
    "            messages=messages,\n",
    "            seed=123,\n",
    "            temperature=0,\n",
    "        )\n",
    "        \n",
    "        time.sleep(1.5)  # Adjust this value if needed\n",
    "        answer=response.choices[0].message.content\n",
    "\n",
    "    return answer    \n",
    "        "
   ]
  },
  {
   "cell_type": "code",
   "execution_count": 195,
   "id": "3704a013-7799-4183-b85c-ba927abb68ed",
   "metadata": {},
   "outputs": [
    {
     "name": "stdout",
     "output_type": "stream",
     "text": [
      "{\n",
      "    \"q_gm1\": {\n",
      "        \"answer\": \"Yes\",\n",
      "        \"reference\": \"The document states, 'I strongly believe that all students should be able to participate in the learning process regardless of their ability to purchase course materials' and 'if there is anything that is preventing you from succeeding or anything that you think I could do to help you, please ask.'\"\n",
      "    },\n",
      "    \"q_gm2\": {\n",
      "        \"answer\": \"No\",\n",
      "        \"reference\": \"Not found in the document.\"\n",
      "    },\n",
      "    \"q_gm3\": {\n",
      "        \"answer\": \"No\",\n",
      "        \"reference\": \"Not found in the document.\"\n",
      "    },\n",
      "    \"q_gm4\": {\n",
      "        \"answer\": \"Yes\",\n",
      "        \"reference\": \"The document mentions that 'grades will be rubric based' and emphasizes the importance of feedback on assignments.\"\n",
      "    },\n",
      "    \"q_gm5\": {\n",
      "        \"answer\": \"Yes\",\n",
      "        \"reference\": \"The document states that peer evaluation is part of the course, which allows for feedback on group projects before final grades.\"\n",
      "    },\n",
      "    \"q_gm6\": {\n",
      "        \"answer\": \"Yes\",\n",
      "        \"reference\": \"Weekly assignments and mid-week follow-ups are mentioned, indicating frequent knowledge checks.\"\n",
      "    },\n",
      "    \"q_gm7\": {\n",
      "        \"answer\": \"No\",\n",
      "        \"reference\": \"Not found in the document.\"\n",
      "    },\n",
      "    \"q_gm8\": {\n",
      "        \"answer\": \"Yes\",\n",
      "        \"reference\": \"The course includes peer evaluation and collaborative projects, fostering collaborative learning opportunities.\"\n",
      "    },\n",
      "    \"q_gm9\": {\n",
      "        \"answer\": \"No\",\n",
      "        \"reference\": \"Not found in the document.\"\n",
      "    },\n",
      "    \"q_gm10\": {\n",
      "        \"answer\": \"Yes\",\n",
      "        \"reference\": \"The course objectives focus on skills development and emphasize learning and adaptability.\"\n",
      "    },\n",
      "    \"q_gm11\": {\n",
      "        \"answer\": \"Yes\",\n",
      "        \"reference\": \"The document encourages students to reach out for help and emphasizes the importance of participation and engagement.\"\n",
      "    }\n",
      "}\n"
     ]
    }
   ],
   "source": [
    "answers_gm_json=ask_questions(questions_gm, extracted_text)\n",
    "print(answers_gm_json)"
   ]
  },
  {
   "cell_type": "code",
   "execution_count": 196,
   "id": "91751b0c-6c7b-44f3-a595-2bf429a003c0",
   "metadata": {},
   "outputs": [
    {
     "name": "stdout",
     "output_type": "stream",
     "text": [
      "{\n",
      "  \"q_gm1\": \"Yes\",\n",
      "  \"q_gm2\": \"No\",\n",
      "  \"q_gm3\": \"No\",\n",
      "  \"q_gm4\": \"Yes\",\n",
      "  \"q_gm5\": \"Yes\",\n",
      "  \"q_gm6\": \"Yes\",\n",
      "  \"q_gm7\": \"No\",\n",
      "  \"q_gm8\": \"Yes\",\n",
      "  \"q_gm9\": \"No\",\n",
      "  \"q_gm10\": \"Yes\",\n",
      "  \"q_gm11\": \"Yes\"\n",
      "}\n"
     ]
    }
   ],
   "source": [
    "answers_gm_dic=json.loads(answers_gm_json)\n",
    "answers_gm_YN={key: value[\"answer\"] for key, value in answers_gm_dic.items()}\n",
    "answers_gm_YN=json.dumps(answers_gm_YN, indent=2)\n",
    "print(answers_gm_YN)"
   ]
  },
  {
   "cell_type": "code",
   "execution_count": 197,
   "id": "a6b944b8-6dc0-4224-b342-d7d5e0ccaaa3",
   "metadata": {},
   "outputs": [
    {
     "name": "stdout",
     "output_type": "stream",
     "text": [
      "[1, 0, 0, 1, 1, 1, 0, 1, 0, 1, 1]\n"
     ]
    }
   ],
   "source": [
    "answers_gm_boolean=[]\n",
    "answer_gm=json.loads(answers_gm_YN)\n",
    "for value in answer_gm.values():\n",
    "    if value.lower() == \"yes\":\n",
    "        answers_gm_boolean.append(1)\n",
    "    elif value.lower() == \"no\":\n",
    "        answers_gm_boolean.append(0)\n",
    "print(answers_gm_boolean)"
   ]
  },
  {
   "cell_type": "code",
   "execution_count": 198,
   "id": "caf7d5d4-eb04-46c4-bdfd-706e4dfa0c69",
   "metadata": {},
   "outputs": [],
   "source": [
    "# questions_la_pre={\n",
    "#                   \"Step 1: Identify the courese's grading scale and print the items and their associated points first.\",\n",
    "#                   \"Step 2: Add a Weight colum to the table, and calcuate each category and their percentage of it in the total course points(weight)\",\n",
    "#                   \"Step 3: Reorder the course's grading scale and associated points and weight in decending order, meaning from thie highest points to the lowest points, print it out again.\",\n",
    "#                   \"Step 4: With the reordered grading scale identified in Step 3, adding the points up, from the second highest valued category through the last category, save it as SubSum for answering future questions, print it.\",\n",
    "#                   \"Step 5: Identify the category has the highest points, and save the points associated with it as Most, print Most=(its numeric value).\",\n",
    "#                   \"Step 6: Identify the Total points of the course, and devide Total by 2, save it as Half, print Half=Total/2.\",\n",
    "#                   \"Step 7: Identify group-related activities (e.g. discussions in-class or out-of-class, group projects, group presentations, and other opportunities to collaborate and learn from peers)\\\n",
    "#                               and add up the associated points and save them as Group, print it.\",\n",
    "#                   \"Step 8: Identify individual related activities (e.g., quizzes, learning checks, homework, TopHat, clickers), and add up the points of all individual activities and save it as Individual.\",\n",
    "#                   \"Step 8: Identify the total points for exams, and save it as Exam, print it. If there is no Exam in the course, consider its total points as 0, print it.\",\n",
    "#                   \"Step 10: Identify the low stakes assessments, meaning the assessment category that weights 20% or less of the total points, and print them.\"\n",
    "#                  }\n"
   ]
  },
  {
   "cell_type": "code",
   "execution_count": 199,
   "id": "e28e8b8b-4a2c-4fe0-9238-1772452f86d5",
   "metadata": {},
   "outputs": [],
   "source": [
    "def get_math(text):\n",
    "    prompt = f'''\n",
    "       Instructions:\n",
    "    You have been provided with the course grading scale data. Your task is to analyze the data, perform the required calculations, and output the results in JSON format.  \n",
    "    🚫 **Memory should be cleared each time you run this analysis. Do not use previous runs as reference. Fully recalculate each time.**  \n",
    "    📌 Important: You are looking for a breakdown of **how different assignments or activities contribute to the course grade** (e.g., exams, quizzes, papers). \n",
    "    🛑 Do not stop the analysis after a first pass. If you initially believe there is no assignment breakdown, recheck to ensure you didn’t overlook narrative or informal formats.\n",
    "       Only after completing a structured scan, if you find absolutely no assignment-based grading breakdown, write:\n",
    "    \"No assignment-based grading breakdown was found after full document scan.\"\n",
    "\n",
    "    \n",
    "    --- STEP-BY-STEP PROCESS ---\n",
    "    1️⃣ **Identify the grading scale items** and their associated points. Print out a table with all items and points.  \n",
    "    2️⃣ **Add a 'Weight' column**: Calculate each category's percentage of the total course points. Print the updated table with weights.  \n",
    "    3️⃣ **Reorder the categories** in descending order of points. Print the sorted list.  \n",
    "    4️⃣ **Calculate 'SubSum'**: Sum all categories from the second-highest to the lowest. Exclude the highest.  \n",
    "        - Print `SubSum = [value]`.  \n",
    "    5️⃣ **Identify the highest category** and save it as `'Most'`.  \n",
    "        - Print `Most = [value]`.  \n",
    "    6️⃣ **Calculate 'Half'**: Divide the total course points by 2.  \n",
    "        - Print `Half = [value]`.  \n",
    "    7️⃣ **Calculate 'Group'**:  \n",
    "        - Group activities include: \"discussions\", \"group projects\", \"group presentations\", and collaborative activities.  \n",
    "        - If the title contains \"Group\", \"Team\", or \"Collaborative\", it is included.  \n",
    "        - Sum these points as `'Group'`.  \n",
    "        - Print `Group = [value]`.  \n",
    "    8️⃣ **Calculate 'Individual'**:  \n",
    "        - Individual activities include: \"quizzes\", \"homework\", \"learning checks\", \"papers\", \"writing assignments\", \"TopHat\", \"clickers\".  \n",
    "        - **Exclude any activity labeled as an \"Exam\"**.  \n",
    "        - Sum these points as `'Individual'`.  \n",
    "        - Print `Individual = [value]`.  \n",
    "    9️⃣ **Calculate 'Exam'**:  \n",
    "        - Exams include any activity labeled with \"Exam\", \"Test\", \"Midterm\", \"Final\", or similar terms.  \n",
    "        - **If it is listed as \"Final Exam\" or \"Midterm\", it belongs here, not Individual.**  \n",
    "        - Sum these points and save as `'Exam'`.  \n",
    "        - Print `Exam = [value]`.  \n",
    "    \n",
    "    --- VERIFICATION STEP ---\n",
    "    🔍 **Before final output, double-check each calculation:**  \n",
    "        - Reprint each value and its source data for reference.  \n",
    "        - If discrepancies are found, **correct them immediately**.  \n",
    "        - If there is any ambiguity in categorization, explain it and recalculate.  \n",
    "    \n",
    "    --- OUTPUT FORMAT ---\n",
    "    📝 Format the output in JSON as follows:  \n",
    "        {{\n",
    "          \"SubSum\": [SubSum_value],\n",
    "          \"Most\": [Most_value],\n",
    "          \"Half\": [Half_value],\n",
    "          \"Group\": [Group_value],\n",
    "          \"Individual\": [Individual_value],\n",
    "          \"Exam\": [Exam_value],\n",
    "          \"LowStakes\": [List of categories with <= 20% weight]\n",
    "        }}  \n",
    "    \n",
    "    **Do not add backticks, markdown, or \"json\" in the output. Only raw JSON is allowed.**  \n",
    "    \n",
    "    --- MEMORY RESET ---  \n",
    "🚫 **Ensure that all steps are recalculated fresh every time. Do not reference prior calculations from previous attempts. If there was an error, it must be fixed in the next run.**\n",
    "\n",
    "    '''\n",
    "\n",
    "    # Send the message to the LLM model to process the question and return the response\n",
    "    messages = [\n",
    "        {\"role\": \"system\", \"content\": prompt},\n",
    "        {\"role\": \"user\", \"content\": text},\n",
    "    ]\n",
    "\n",
    "    # Get answers from GPT\n",
    "    response = client.chat.completions.create(\n",
    "        model=\"gpt-4o-mini\",  # or use gpt-4-1106-preview for better results\n",
    "        messages=messages,\n",
    "        temperature=0,\n",
    "    )\n",
    "    \n",
    "    time.sleep(1.5)  # Adjust this value if needed\n",
    "    answer = response.choices[0].message.content\n",
    "    return answer\n"
   ]
  },
  {
   "cell_type": "code",
   "execution_count": 200,
   "id": "1d6af4fb-26ca-40cc-a730-bd85baf9a4a3",
   "metadata": {},
   "outputs": [
    {
     "name": "stdout",
     "output_type": "stream",
     "text": [
      "No assignment-based grading breakdown was found after full document scan.\n"
     ]
    }
   ],
   "source": [
    "answers_lapre=get_math(extracted_text)\n",
    "print(answers_lapre)"
   ]
  },
  {
   "cell_type": "code",
   "execution_count": 201,
   "id": "5659966b-972e-4cfe-8782-24f0dd306963",
   "metadata": {},
   "outputs": [],
   "source": [
    "# 1.If there is a breakdown of assessment categories? Answer Yes or No first. Identify the breakdown of assessment categories and the percentage it weights for the total value of the course, order it by descending order, and use it to answer the following 3 questions. Do group-related activities (e.g., discussions--in or out of class, collaborating or learning from peers) have as much weight (or more) than the exams/mid-terms and final exam?\n",
    "# 2.Do individual activities (e.g., quizzes, learning checks, homework, TopHat, clickers)have as much weight (or more) than the exams/mid-terms and final exam?\n",
    "# 3.What category of assessment worth the most based on the grading scale? Is this category of assessment an individual or group-based assessment? Group based return answer Yes, individual return answer No.\"\n",
    "# 4.Are the exams cumulative, meaning testing on all knowledge and material students learned in the class all the time?\n",
    "# 5.Are assessment from the second category to the last category added up together worth more than the highest valued category?\n",
    "# 6.Is there a method used to assess students’ current knowledge of course concepts (e.g., pre-test, knowledge check, quiz, etc.)?\n",
    "# 7.Does the syllabi provide flexibility in grading, such as multiple attempts, flexibility in deadlines, dropping an assessment?\n",
    "\n",
    "questions_la_1={\n",
    "    \"q_la1\": \"Step 1: State the values of 'SubSum' and 'Most'. Step 2: Compare them explicitly: Is 275 > 225? → Yes. Step 3: Based on the comparison, link the final answer directly to the result. If the comparison is → Yes, then respond 'Yes'. If the comparison is → No, then respond 'No'.\",\n",
    "    \"q_la2\": \"Compare 'Group' to 'Exam'. If 'Group' is more in value, respond with 'Yes'. If 'Group' is less in value, respond with 'No'.\", \n",
    "    \"q_la3\": \"Evaluate if 'Individual' is more than 'Exam' in value. If it is, respond with 'Yes'. If 'Individual' is less than 'Exam', respond with 'No'.\",\n",
    "    \"q_la4\": \"Step 1: State the value of 'Exam'. Step 2: State the value of 'Half'. Step 3: Perform the comparison: 'Is Exam > Half? → [Yes/No]'. Step 4: Based on the comparison, link the final answer directly to the result. If the comparison is → Yes, then respond 'Yes'. If the comparison is → No, then respond 'No'.\", \n",
    "    \"q_la5\": \"Determine if low stakes assessments are administered throughout the semester. If they are, respond with 'Yes'. If they are not given throughout the semester, respond with 'No'.\"\n",
    "}"
   ]
  },
  {
   "cell_type": "code",
   "execution_count": 202,
   "id": "1c65e4e0-7e1d-4c47-8500-f55a91967026",
   "metadata": {},
   "outputs": [],
   "source": [
    "def ask_questions(questions, text, answers_lapre):\n",
    "    # Convert the extracted values from Step 1 to a string (or JSON format)\n",
    "    step1_data_str = str(answers_lapre)  # This includes all extracted values from Step 1, such as SubSum, Most, etc.\n",
    "\n",
    "    prompt = f'''\n",
    "        Instructions:\n",
    "        You are a teaching assistant. Your task is to answer questions about the grades based on the reference data created in the previous step.\n",
    "        \n",
    "        --- PROVIDED VALUES --- \n",
    "        {step1_data_str}\n",
    "        \n",
    "        --- IMPORTANT RULES ---\n",
    "        1️⃣ Only use the values given in the reference data.  \n",
    "        2️⃣ Do **not** remember previous evaluations. This is a fresh analysis every time.  \n",
    "        3️⃣ Perform all calculations **step-by-step** and print them out.  \n",
    "        4️⃣ If a comparison is made, print the exact calculation:\n",
    "            Example: \"Is 50 > 30? → Yes\"  \n",
    "            Example: \"Is 25 < 30? → No\"  \n",
    "        \n",
    "        --- LOGIC AND VERIFICATION ---\n",
    "        - For each question:\n",
    "            1. Identify the values from the reference data.\n",
    "            2. Perform the comparison explicitly and display it.\n",
    "            3. Answer with \"Yes\" or \"No\" based on the calculation. \n",
    "            4. Cite the source values for reference.\n",
    "            5. Make sure final answer is consistent with calculation\n",
    "            \n",
    "        - If the answer is \"No,\" **recalculate** and verify. If the same result appears, mark as final.  \n",
    "        - If values are missing, answer \"No\" with reference: \"Value not found.\"  \n",
    "        \n",
    "        --- OUTPUT FORMAT ---\n",
    "        Only print raw JSON:  \n",
    "            {{\n",
    "              \"q_la1\": {{\"answer\": \"Yes\", \"reference\": \"SubSum = 55, Most = 50\"}},\n",
    "              \"q_la2\": {{\"answer\": \"No\", \"reference\": \"Group = 30, Exam = 40\"}}\n",
    "            }}  \n",
    "        \n",
    "        --- CAUTION ---  \n",
    "        1. Do not assume values.  \n",
    "        2. Do not carry over memory from previous runs.  \n",
    "        3. Always recalculate each step explicitly.  \n",
    "\n",
    "    '''\n",
    "    \n",
    "    # Send the message to the LLM model to process the question and return the response\n",
    "    messages = [\n",
    "        {\"role\": \"system\", \"content\": prompt},\n",
    "        {\"role\": \"user\", \"content\": f' Reference text: {extracted_text} Questions need answers: {questions} '}\n",
    "    ]\n",
    "\n",
    "    # Get answers from GPT\n",
    "    response = client.chat.completions.create(\n",
    "        model=\"gpt-4o-mini\",  # or use gpt-4-1106-preview for better results\n",
    "        messages=messages,\n",
    "        temperature=0,\n",
    "    )\n",
    "\n",
    "    time.sleep(1.5)  # Adjust this value if needed\n",
    "    answer = response.choices[0].message.content\n",
    "    return answer\n"
   ]
  },
  {
   "cell_type": "code",
   "execution_count": 203,
   "id": "56b42aed-aa16-4281-b5da-153b9e802c4e",
   "metadata": {},
   "outputs": [
    {
     "name": "stdout",
     "output_type": "stream",
     "text": [
      "{\n",
      "  \"q_la1\": {\"answer\": \"No\", \"reference\": \"Value not found.\"},\n",
      "  \"q_la2\": {\"answer\": \"No\", \"reference\": \"Value not found.\"},\n",
      "  \"q_la3\": {\"answer\": \"No\", \"reference\": \"Value not found.\"},\n",
      "  \"q_la4\": {\"answer\": \"No\", \"reference\": \"Value not found.\"},\n",
      "  \"q_la5\": {\"answer\": \"No\", \"reference\": \"Value not found.\"}\n",
      "}\n"
     ]
    }
   ],
   "source": [
    "answers_la1_json=ask_questions(questions_la_1, extracted_text, answers_lapre)\n",
    "print(answers_la1_json)"
   ]
  },
  {
   "cell_type": "code",
   "execution_count": 204,
   "id": "82e9aba9-7d0f-4fea-8281-7a90ffc10519",
   "metadata": {},
   "outputs": [
    {
     "name": "stdout",
     "output_type": "stream",
     "text": [
      "{\n",
      "  \"q_la1\": {\n",
      "    \"answer\": \"No\",\n",
      "    \"reference\": \"Value not found.\"\n",
      "  },\n",
      "  \"q_la2\": {\n",
      "    \"answer\": \"No\",\n",
      "    \"reference\": \"Value not found.\"\n",
      "  },\n",
      "  \"q_la3\": {\n",
      "    \"answer\": \"No\",\n",
      "    \"reference\": \"Value not found.\"\n",
      "  },\n",
      "  \"q_la4\": {\n",
      "    \"answer\": \"Yes\",\n",
      "    \"reference\": \"Value not found.\"\n",
      "  },\n",
      "  \"q_la5\": {\n",
      "    \"answer\": \"No\",\n",
      "    \"reference\": \"Value not found.\"\n",
      "  }\n",
      "}\n"
     ]
    }
   ],
   "source": [
    "#Flip the log in q_la4\n",
    "\n",
    "answers_la1_json = ask_questions(questions_la_1, extracted_text, answers_lapre)\n",
    "\n",
    "# Convert string to dict if needed\n",
    "if isinstance(answers_la1_json, str):\n",
    "    answers_la1_json = json.loads(answers_la1_json)\n",
    "\n",
    "# Flip q_la4 logic\n",
    "if \"q_la4\" in answers_la1_json:\n",
    "    original_answer = answers_la1_json[\"q_la4\"][\"answer\"]\n",
    "    if original_answer == \"Yes\":\n",
    "        answers_la1_json[\"q_la4\"][\"answer\"] = \"No\"\n",
    "    elif original_answer == \"No\":\n",
    "        answers_la1_json[\"q_la4\"][\"answer\"] = \"Yes\"\n",
    "\n",
    "# Print or return final result\n",
    "print(json.dumps(answers_la1_json, indent=2))"
   ]
  },
  {
   "cell_type": "code",
   "execution_count": 205,
   "id": "5adb34c2-3bfc-4e7d-9db2-d4dab8f3d6e5",
   "metadata": {},
   "outputs": [
    {
     "name": "stdout",
     "output_type": "stream",
     "text": [
      "{\n",
      "  \"q_la1\": \"No\",\n",
      "  \"q_la2\": \"No\",\n",
      "  \"q_la3\": \"No\",\n",
      "  \"q_la4\": \"Yes\",\n",
      "  \"q_la5\": \"No\"\n",
      "}\n"
     ]
    }
   ],
   "source": [
    "answers_la1_dic=answers_la1_json\n",
    "answers_la1_YN={key: value[\"answer\"] for key, value in answers_la1_dic.items()}\n",
    "answers_la1_YN=json.dumps(answers_la1_YN, indent=2)\n",
    "print(answers_la1_YN)"
   ]
  },
  {
   "cell_type": "code",
   "execution_count": 206,
   "id": "59a52fb6-8597-43b6-aedd-87872adab718",
   "metadata": {},
   "outputs": [
    {
     "name": "stdout",
     "output_type": "stream",
     "text": [
      "[0, 0, 0, 1, 0]\n"
     ]
    }
   ],
   "source": [
    "answers_la1_boolean=[]\n",
    "answer_la1=json.loads(answers_la1_YN)\n",
    "for value in answer_la1.values():\n",
    "    if value.lower() == \"yes\":\n",
    "        answers_la1_boolean.append(1)\n",
    "    elif value.lower() == \"no\":\n",
    "        answers_la1_boolean.append(0)\n",
    "print(answers_la1_boolean)"
   ]
  },
  {
   "cell_type": "code",
   "execution_count": 207,
   "id": "7ab4df3e-5f1a-4cf7-a348-be4a0895fe82",
   "metadata": {},
   "outputs": [],
   "source": [
    "# answers_la1_boolean = [1, 0, 1, 1, 1]"
   ]
  },
  {
   "cell_type": "code",
   "execution_count": 208,
   "id": "703cbb9e-f433-4bc3-8260-223ce10f975b",
   "metadata": {},
   "outputs": [],
   "source": [
    "questions_la_2={\n",
    "    \"q_la6\": \"Are any of the exams in the course cumulative or comprehensive? - If there are no exams at all, respond 'No'.\",\n",
    "    \"q_la7\": \"Does the syllabus include any method to assess students’ prior knowledge of course content, such as a pre-test, diagnostic quiz, or knowledge check activity?\",\n",
    "    \"q_la8\": \"Does the course provide flexbility in grading, such as multiple attempts, flexibility in deadlines, dropping an assessment?\", \n",
    "    \"q_la9\": \"Are there any grades assigned to out-of-class discussion opportunities (e.g. discussion board, Packback, Piazza, etc)?\",\n",
    "    \"q_la10\": \"Are there any grades assigned to in-class participation opportunitie (e.g. TopHat, Clicker, in-class quizzes, discussions, activities, short esseys)?\", \n",
    "    \"q_la11\": \"Is there any opportunity for self-check or practice quizzes and/or exams?\",\n",
    "    \"q_la12\": \"Is there frequent knowledge checks (e.g. homeworks, quizzes, reflections, etc.) to assess learning beyond midterm and final exam and final projects?\",\n",
    "    \"q_la13\": \"Are there any assingments that promote in-depth learning through reflection or writing?\",\n",
    "    \"q_la14\": \"Is there any opportunity to earn extra credit in this class?\",\n",
    "    \"q_la15\": \"Do students have choices in the format of assessment for some assingments in the course?\", \n",
    "    \"q_la16\": \"Are there any in-class peer discussion/learning opportunities and collaborative learning opportunities (e.g. group projects) indicated in the syllabus?\"\n",
    "}"
   ]
  },
  {
   "cell_type": "code",
   "execution_count": 209,
   "id": "5b501765-3f41-41fc-a1c5-325f10f2e141",
   "metadata": {},
   "outputs": [],
   "source": [
    "def ask_questions(questions, text):\n",
    "\n",
    "\n",
    "    for question in questions:\n",
    "        prompt=f'''\n",
    "        Instructions:\n",
    "        You are a curriculum evaluator. Your task is to evaluate the elements of inclusive teaching in a syllabus by answering predefined questions. \n",
    "        You will need to read the text from beginning to end. You will respond to these questions related to elements of inclusive teaching with [Yes, No] as the final answer.\n",
    "        A careful decision must be made, and no other output is accepted. Input questions will be in a JSON container. \n",
    "        Output answers will also be in a mandatory JSON format using only curly brackets. Do not include any other symbols or words in the answers.\n",
    "        \n",
    "        --- IMPORTANT --- \n",
    "        You are only assessing the **current document provided**.  \n",
    "        1️⃣ You **must not** refer to or remember any previous document.  \n",
    "        2️⃣ Your answers should be **exclusively based** on the evidence found in **this document**.  \n",
    "        3️⃣ If you do not find the evidence, respond with \"No\" and cite \"Not found in the document.\"  \n",
    "\n",
    "        --- FORMAT RULES --- \n",
    "        - Answer each question with \"Yes\" or \"No\" based solely on the content of the document.  \n",
    "        - For each answer, provide a `reference` that points directly to the content in the document that supports your decision.  \n",
    "        - If the answer is \"No,\" still provide a `reference` indicating that the evidence is not present.  \n",
    "\n",
    "        \n",
    "        Example output format:\n",
    "            Input: {{\"question 1\": \"Is the language in this document inclusive?\", \"question 2\": \"Are there additional free materials listed for the course?\",...}}\n",
    "            Output: {{\"q_eo1\": {{\"answer\": \"Yes\", \"reference\": \"Textbook reference or details here\"}}, \"q_eo2\": {{\"answer\": \"No\", \"reference\": \"Details if any or 'None'\"}},...}}\n",
    "\n",
    "        \n",
    "        --- VERIFICATION STEP ---  \n",
    "        After processing each question, **double-check the evidence found** in the document to ensure it matches your answer.  \n",
    "        - If you identify any inconsistency or error during verification, **correct it immediately** before moving to the next question.  \n",
    "        - Only provide final output when you are confident the answers are accurate and directly evidence-based.\n",
    "\n",
    "        --- CAUTION ---  \n",
    "        Do not assume any context from previous documents. This is a fresh evaluation. All evidence must be contained in the provided text.\n",
    "        '''\n",
    "        messages=[\n",
    "                {\"role\": \"system\", \"content\": prompt},\n",
    "                {\"role\": \"user\", \"content\": f\"Document Content: {extracted_text}\\n Question about the document: {questions}\"},\n",
    "            ]\n",
    "        #get answers from gpt\n",
    "        response=client.chat.completions.create(\n",
    "            model=\"gpt-4o-mini\", # or use gpt-4-1106-preview for better result\n",
    "            messages=messages,\n",
    "            # seed=123,\n",
    "            temperature=0,\n",
    "        )\n",
    "        time.sleep(1.5)  # Adjust this value if needed\n",
    "        answer=response.choices[0].message.content\n",
    "\n",
    "    return answer    \n",
    "        "
   ]
  },
  {
   "cell_type": "code",
   "execution_count": 210,
   "id": "8211bd0b-7cf3-4429-a0e7-e9175a35adee",
   "metadata": {},
   "outputs": [
    {
     "name": "stdout",
     "output_type": "stream",
     "text": [
      "{\n",
      "    \"q_la6\": {\"answer\": \"No\", \"reference\": \"Not found in the document.\"},\n",
      "    \"q_la7\": {\"answer\": \"No\", \"reference\": \"Not found in the document.\"},\n",
      "    \"q_la8\": {\"answer\": \"No\", \"reference\": \"Not found in the document.\"},\n",
      "    \"q_la9\": {\"answer\": \"No\", \"reference\": \"Not found in the document.\"},\n",
      "    \"q_la10\": {\"answer\": \"Yes\", \"reference\": \"In-class participation grades will be determined holistically over the semester.\"},\n",
      "    \"q_la11\": {\"answer\": \"No\", \"reference\": \"Not found in the document.\"},\n",
      "    \"q_la12\": {\"answer\": \"Yes\", \"reference\": \"Weekly assignments will provide practice on what has been discussed in the course.\"},\n",
      "    \"q_la13\": {\"answer\": \"Yes\", \"reference\": \"The course project will involve researching different physics curricula and developing a comprehensive proposal.\"},\n",
      "    \"q_la14\": {\"answer\": \"No\", \"reference\": \"Not found in the document.\"},\n",
      "    \"q_la15\": {\"answer\": \"No\", \"reference\": \"Not found in the document.\"},\n",
      "    \"q_la16\": {\"answer\": \"Yes\", \"reference\": \"The course will involve many peer and instructor interactions in asynchronous forums or in-class.\"}\n",
      "}\n"
     ]
    }
   ],
   "source": [
    "answers_la2_json=ask_questions(questions_la_2, extracted_text)\n",
    "print(answers_la2_json)"
   ]
  },
  {
   "cell_type": "code",
   "execution_count": 211,
   "id": "8bbc9528-048e-4816-9711-7d2bfc6dcc72",
   "metadata": {},
   "outputs": [
    {
     "name": "stdout",
     "output_type": "stream",
     "text": [
      "{\n",
      "  \"q_la6\": \"No\",\n",
      "  \"q_la7\": \"No\",\n",
      "  \"q_la8\": \"No\",\n",
      "  \"q_la9\": \"No\",\n",
      "  \"q_la10\": \"Yes\",\n",
      "  \"q_la11\": \"No\",\n",
      "  \"q_la12\": \"Yes\",\n",
      "  \"q_la13\": \"Yes\",\n",
      "  \"q_la14\": \"No\",\n",
      "  \"q_la15\": \"No\",\n",
      "  \"q_la16\": \"Yes\"\n",
      "}\n"
     ]
    }
   ],
   "source": [
    "answers_la2_dic=json.loads(answers_la2_json)\n",
    "answers_la2_YN={key: value[\"answer\"] for key, value in answers_la2_dic.items()}\n",
    "answers_la2_YN=json.dumps(answers_la2_YN, indent=2)\n",
    "print(answers_la2_YN)"
   ]
  },
  {
   "cell_type": "code",
   "execution_count": 212,
   "id": "6e7bc71f-6130-4a50-97ae-e1b905dba68e",
   "metadata": {},
   "outputs": [
    {
     "name": "stdout",
     "output_type": "stream",
     "text": [
      "[0, 0, 0, 0, 1, 0, 1, 1, 0, 0, 1]\n"
     ]
    }
   ],
   "source": [
    "answers_la2_boolean=[]\n",
    "answer_la2=json.loads(answers_la2_YN)\n",
    "for value in answer_la2.values():\n",
    "    if value.lower() == \"yes\":\n",
    "        answers_la2_boolean.append(1)\n",
    "    elif value.lower() == \"no\":\n",
    "        answers_la2_boolean.append(0)\n",
    "print(answers_la2_boolean)"
   ]
  },
  {
   "cell_type": "code",
   "execution_count": 213,
   "id": "fa64a000-7a6d-428d-9631-d11354156722",
   "metadata": {},
   "outputs": [],
   "source": [
    "answers_la_boolean = answers_la1_boolean + answers_la2_boolean"
   ]
  },
  {
   "cell_type": "code",
   "execution_count": 214,
   "id": "bb91b6cd-5a4c-4248-8452-c78df6e624a8",
   "metadata": {},
   "outputs": [],
   "source": [
    "questions_rt={\n",
    "    \"q_rt1\": \"Are course objectives clearly stated in the syllabus?\",\n",
    "    \"q_rt2\": \"Are the course objectives supported by listed course topics?\",\n",
    "    \"q_rt3\": \"Does this syllabus have a course schedule listing topics/readings/assignments in chronological or sequential order with due dates?\",\n",
    "    \"q_rt4\": \"Does the syllabus have a course schedule easy to read and understand?\", \n",
    "    \"q_rt5\": \"Does the syllabus mention a grading rubric specifically for assignments like projects, papers, or discussions—not the overall course grade breakdown? A rubric counts even if it's referenced as available in Canvas.\",\n",
    "    \"q_rt6\": \"Does it provide the breakdown of assessment categories and the percentage them composed of the final grade? The breakdown of grading category is not the same as grading rubric, it is not a rubric in this context.\",\n",
    "    \"q_rt7\": \"Does instructor provide tips/advice for success in the class?\",\n",
    "    \"q_rt8\": \"Is the format of the assessment explained? For quizzes or exams stated, such as multiple choices, fill in the blanks, short esseys, etc.? It also includes the other formats of essessment beyond quizzes or exams\",\n",
    "    \"q_rt9\": \"Is there an option to only count the the better scored assessments, such as only selecting a number of highest scored quizzes or exams to count towards the final grades?\",\n",
    "    \"q_rt10\": \"Is there clear policy about minimal absenses?\",\n",
    "    \"q_rt11\": \"Does the course offer any flexibility for attendance which would allow students to make up lessons that was missed and have access to course slides?\",\n",
    "    \"q_rt12\": \"Does the course allow students to make-up work for missed attendance?\"\n",
    "}"
   ]
  },
  {
   "cell_type": "code",
   "execution_count": 215,
   "id": "38ed838f-b47b-4991-b9f7-048a05a9876d",
   "metadata": {},
   "outputs": [],
   "source": [
    "def ask_questions(questions, text):\n",
    "\n",
    "\n",
    "    for question in questions:\n",
    "        prompt=f'''\n",
    "        Instructions:\n",
    "        You are a curriculum evaluator. Your task is to evaluate the elements of inclusive teaching in a syllabus by answering predefined questions. \n",
    "        You will need to read the text from beginning to end. You will respond to these questions related to elements of inclusive teaching with [Yes, No] as the final answer.\n",
    "        A careful decision must be made, and no other output is accepted. Input questions will be in a JSON container. \n",
    "        Output answers will also be in a mandatory JSON format using only curly brackets. Do not include any other symbols or words in the answers.\n",
    "        \n",
    "        --- IMPORTANT --- \n",
    "        You are only assessing the **current document provided**.  \n",
    "        1️⃣ You **must not** refer to or remember any previous document.  \n",
    "        2️⃣ Your answers should be **exclusively based** on the evidence found in **this document**.  \n",
    "        3️⃣ If you do not find the evidence, respond with \"No\" and cite \"Not found in the document.\"  \n",
    "\n",
    "        --- FORMAT RULES --- \n",
    "        - Answer each question with \"Yes\" or \"No\" based solely on the content of the document.  \n",
    "        - For each answer, provide a `reference` that points directly to the content in the document that supports your decision.  \n",
    "        - If the answer is \"No,\" still provide a `reference` indicating that the evidence is not present.  \n",
    "\n",
    "        \n",
    "        Example output format:\n",
    "            Input: {{\"question 1\": \"Is the language in this document inclusive?\", \"question 2\": \"Are there additional free materials listed for the course?\",...}}\n",
    "            Output: {{\"q_eo1\": {{\"answer\": \"Yes\", \"reference\": \"Textbook reference or details here\"}}, \"q_eo2\": {{\"answer\": \"No\", \"reference\": \"Details if any or 'None'\"}},...}}\n",
    "\n",
    "        \n",
    "        --- VERIFICATION STEP ---  \n",
    "        After processing each question, **double-check the evidence found** in the document to ensure it matches your answer.  \n",
    "        - If you identify any inconsistency or error during verification, **correct it immediately** before moving to the next question.  \n",
    "        - Only provide final output when you are confident the answers are accurate and directly evidence-based.\n",
    "\n",
    "        --- CAUTION ---  \n",
    "        --- RESET NOTICE ---\n",
    "        This is a fresh evaluation. You must not reuse previous answers. Carefully re-read the document and re-evaluate every question as if for the first time. Do not assume the previous answer is correct.\n",
    "\n",
    "        '''\n",
    "\n",
    "        messages=[\n",
    "                {\"role\": \"system\", \"content\": prompt},\n",
    "                {\"role\": \"user\", \"content\": f\"Document Content: {extracted_text}\\n Question about the document: {questions}\"},\n",
    "            ]\n",
    "        #get answers from gpt\n",
    "        response=client.chat.completions.create(\n",
    "            model=\"gpt-4o-mini\", # or use gpt-4-1106-preview for better result\n",
    "            messages=messages,\n",
    "            seed=123,\n",
    "            temperature=0,\n",
    "        )\n",
    "\n",
    "        time.sleep(1.5)  # Adjust this value if needed\n",
    "        answer=response.choices[0].message.content\n",
    "\n",
    "    return answer    \n",
    "        "
   ]
  },
  {
   "cell_type": "code",
   "execution_count": 216,
   "id": "eb7a29b5-83f6-4cb4-a80c-0106d24055e4",
   "metadata": {},
   "outputs": [
    {
     "name": "stdout",
     "output_type": "stream",
     "text": [
      "{\n",
      "    \"q_rt1\": {\"answer\": \"No\", \"reference\": \"Not found in the document.\"},\n",
      "    \"q_rt2\": {\"answer\": \"No\", \"reference\": \"Not found in the document.\"},\n",
      "    \"q_rt3\": {\"answer\": \"No\", \"reference\": \"Not found in the document.\"},\n",
      "    \"q_rt4\": {\"answer\": \"No\", \"reference\": \"Not found in the document.\"},\n",
      "    \"q_rt5\": {\"answer\": \"Yes\", \"reference\": \"Grading in the class will be based on (1) in-class participation, (2) out-of-class assignments and (3) a course project.\"},\n",
      "    \"q_rt6\": {\"answer\": \"No\", \"reference\": \"Not found in the document.\"},\n",
      "    \"q_rt7\": {\"answer\": \"Yes\", \"reference\": \"If you think you might have trouble meeting a deadline, please reach out as early as possible.\"},\n",
      "    \"q_rt8\": {\"answer\": \"No\", \"reference\": \"Not found in the document.\"},\n",
      "    \"q_rt9\": {\"answer\": \"No\", \"reference\": \"Not found in the document.\"},\n",
      "    \"q_rt10\": {\"answer\": \"No\", \"reference\": \"Not found in the document.\"},\n",
      "    \"q_rt11\": {\"answer\": \"Yes\", \"reference\": \"If you need to miss a class for some reason, please reach out before class if possible.\"},\n",
      "    \"q_rt12\": {\"answer\": \"Yes\", \"reference\": \"please work with me if you have any issues that will prevent you from fully participating in classes.\"}\n",
      "}\n"
     ]
    }
   ],
   "source": [
    "answers_rt_json=ask_questions(questions_rt, extracted_text)\n",
    "print(answers_rt_json)"
   ]
  },
  {
   "cell_type": "code",
   "execution_count": 217,
   "id": "2cb22587-19b9-4f8b-84a0-19505c085a4a",
   "metadata": {},
   "outputs": [
    {
     "name": "stdout",
     "output_type": "stream",
     "text": [
      "{\n",
      "  \"q_rt1\": \"No\",\n",
      "  \"q_rt2\": \"No\",\n",
      "  \"q_rt3\": \"No\",\n",
      "  \"q_rt4\": \"No\",\n",
      "  \"q_rt5\": \"Yes\",\n",
      "  \"q_rt6\": \"No\",\n",
      "  \"q_rt7\": \"Yes\",\n",
      "  \"q_rt8\": \"No\",\n",
      "  \"q_rt9\": \"No\",\n",
      "  \"q_rt10\": \"No\",\n",
      "  \"q_rt11\": \"Yes\",\n",
      "  \"q_rt12\": \"Yes\"\n",
      "}\n"
     ]
    }
   ],
   "source": [
    "answers_rt_dic=json.loads(answers_rt_json)\n",
    "answers_rt_YN={key: value[\"answer\"] for key, value in answers_rt_dic.items()}\n",
    "answers_rt_YN=json.dumps(answers_rt_YN, indent=2)\n",
    "print(answers_rt_YN)"
   ]
  },
  {
   "cell_type": "code",
   "execution_count": 218,
   "id": "610dcda1-4323-4b2c-9d4d-5b8c85296647",
   "metadata": {},
   "outputs": [
    {
     "name": "stdout",
     "output_type": "stream",
     "text": [
      "[0, 0, 0, 0, 1, 0, 1, 0, 0, 0, 1, 1]\n"
     ]
    }
   ],
   "source": [
    "answers_rt_boolean=[]\n",
    "answer_rt=json.loads(answers_rt_YN)\n",
    "for value in answer_rt.values():\n",
    "    if value.lower() == \"yes\":\n",
    "        answers_rt_boolean.append(1)\n",
    "    elif value.lower() == \"no\":\n",
    "        answers_rt_boolean.append(0)\n",
    "print(answers_rt_boolean)"
   ]
  },
  {
   "cell_type": "code",
   "execution_count": 219,
   "id": "41703170-50c5-4a03-94c7-5858c3e937b6",
   "metadata": {},
   "outputs": [],
   "source": [
    "questions_lr={ \n",
    "    \"q_lr1\": \"Does it contain the instructor's office hour or student hour?\",\n",
    "    \"q_lr2\": \"Does it provide a rationale of why office hour or student hour exist?\",\n",
    "    \"q_lr3\": \"Does the syllabus specify the instructor’s availability to meet with students outside of regular office hours, such as by appointment?\",\n",
    "    \"q_lr4\": \"Does it have TA or GA or Teaching Assistant and their contact information listed?\",\n",
    "    \"q_lr5\": \"Does it explain what the TA or GA or Teaching Asstant or Learning Assistant's role is?\",\n",
    "    \"q_lr6\": \"Do TA or GA provide help for students in class?\",\n",
    "    \"q_lr7\": \"Are academic resources listed, such as library services, tutoring, writing center, peer advisors, etc?\"\n",
    "}"
   ]
  },
  {
   "cell_type": "code",
   "execution_count": 220,
   "id": "5ea8b0f3-680f-43ff-afd3-b696a6c1f02e",
   "metadata": {},
   "outputs": [],
   "source": [
    "def ask_questions(questions, text):\n",
    "\n",
    "\n",
    "    for question in questions:\n",
    "        prompt=f'''\n",
    "        Instructions:\n",
    "        You are a curriculum evaluator. Your task is to evaluate the elements of inclusive teaching in a syllabus by answering predefined questions. \n",
    "        You will need to read the text from beginning to end. You will respond to these questions related to elements of inclusive teaching with [Yes, No] as the final answer.\n",
    "        A careful decision must be made, and no other output is accepted. Input questions will be in a JSON container. \n",
    "        Output answers will also be in a mandatory JSON format using only curly brackets. Do not include any other symbols or words in the answers.\n",
    "        \n",
    "        --- IMPORTANT --- \n",
    "        You are only assessing the **current document provided**.  \n",
    "        1️⃣ You **must not** refer to or remember any previous document.  \n",
    "        2️⃣ Your answers should be **exclusively based** on the evidence found in **this document**.  \n",
    "        3️⃣ If you do not find the evidence, respond with \"No\" and cite \"Not found in the document.\"  \n",
    "\n",
    "        --- FORMAT RULES --- \n",
    "        - Answer each question with \"Yes\" or \"No\" based solely on the content of the document.  \n",
    "        - For each answer, provide a `reference` that points directly to the content in the document that supports your decision.  \n",
    "        - If the answer is \"No,\" still provide a `reference` indicating that the evidence is not present.  \n",
    "\n",
    "        \n",
    "        Example output format:\n",
    "            Input: {{\"question 1\": \"Is the language in this document inclusive?\", \"question 2\": \"Are there additional free materials listed for the course?\",...}}\n",
    "            Output: {{\"q_eo1\": {{\"answer\": \"Yes\", \"reference\": \"Textbook reference or details here\"}}, \"q_eo2\": {{\"answer\": \"No\", \"reference\": \"Details if any or 'None'\"}},...}}\n",
    "\n",
    "        \n",
    "        --- VERIFICATION STEP ---  \n",
    "        After processing each question, **double-check the evidence found** in the document to ensure it matches your answer.  \n",
    "        - If you identify any inconsistency or error during verification, **correct it immediately** before moving to the next question.  \n",
    "        - Only provide final output when you are confident the answers are accurate and directly evidence-based.\n",
    "\n",
    "        --- CAUTION ---  \n",
    "        Do not assume any context from previous documents. This is a fresh evaluation. All evidence must be contained in the provided text.\n",
    "        '''\n",
    "\n",
    "\n",
    "        messages=[\n",
    "                {\"role\": \"system\", \"content\": prompt},\n",
    "                {\"role\": \"user\", \"content\": f\"Document Content: {extracted_text}\\n Question about the document: {questions}\"},\n",
    "            ]\n",
    "        #get answers from gpt\n",
    "        response=client.chat.completions.create(\n",
    "            model=\"gpt-4o-mini\", # or use gpt-4-1106-preview for better result\n",
    "            messages=messages,\n",
    "            seed=123,\n",
    "            temperature=0,\n",
    "        )\n",
    "\n",
    "        time.sleep(1.5)  # Adjust this value if needed\n",
    "        answer=response.choices[0].message.content\n",
    "\n",
    "    return answer    \n",
    "        "
   ]
  },
  {
   "cell_type": "code",
   "execution_count": 221,
   "id": "9943a8b9-51c6-4abe-a7d7-1027e55a1b0f",
   "metadata": {},
   "outputs": [
    {
     "name": "stdout",
     "output_type": "stream",
     "text": [
      "{\n",
      "    \"q_lr1\": {\"answer\": \"Yes\", \"reference\": \"Office Hours: By Appointment (Book time with Hudson, Eric)\"},\n",
      "    \"q_lr2\": {\"answer\": \"No\", \"reference\": \"Not found in the document.\"},\n",
      "    \"q_lr3\": {\"answer\": \"Yes\", \"reference\": \"Please don’t hesitate to reach out if you’d like to discuss anything. I’m happy to meet in person or on zoom.\"},\n",
      "    \"q_lr4\": {\"answer\": \"No\", \"reference\": \"Not found in the document.\"},\n",
      "    \"q_lr5\": {\"answer\": \"No\", \"reference\": \"Not found in the document.\"},\n",
      "    \"q_lr6\": {\"answer\": \"No\", \"reference\": \"Not found in the document.\"},\n",
      "    \"q_lr7\": {\"answer\": \"No\", \"reference\": \"Not found in the document.\"}\n",
      "}\n"
     ]
    }
   ],
   "source": [
    "answers_lr_json=ask_questions(questions_lr, extracted_text)\n",
    "print(answers_lr_json)"
   ]
  },
  {
   "cell_type": "code",
   "execution_count": 222,
   "id": "a2a61e6e-af5c-4bbc-a022-d4fd5d1d7a88",
   "metadata": {},
   "outputs": [
    {
     "name": "stdout",
     "output_type": "stream",
     "text": [
      "{\n",
      "  \"q_lr1\": \"Yes\",\n",
      "  \"q_lr2\": \"No\",\n",
      "  \"q_lr3\": \"Yes\",\n",
      "  \"q_lr4\": \"No\",\n",
      "  \"q_lr5\": \"No\",\n",
      "  \"q_lr6\": \"No\",\n",
      "  \"q_lr7\": \"No\"\n",
      "}\n"
     ]
    }
   ],
   "source": [
    "answers_lr_dic=json.loads(answers_lr_json)\n",
    "answers_lr_YN={key: value[\"answer\"] for key, value in answers_lr_dic.items()}\n",
    "answers_lr_YN=json.dumps(answers_lr_YN, indent=2)\n",
    "print(answers_lr_YN)"
   ]
  },
  {
   "cell_type": "code",
   "execution_count": 223,
   "id": "9ec930a0-1f00-43eb-903e-e234d35c4f3c",
   "metadata": {},
   "outputs": [
    {
     "name": "stdout",
     "output_type": "stream",
     "text": [
      "[1, 0, 1, 0, 0, 0, 0]\n"
     ]
    }
   ],
   "source": [
    "answers_lr_boolean=[]\n",
    "answer_lr=json.loads(answers_lr_YN)\n",
    "for value in answer_lr.values():\n",
    "    if value.lower() == \"yes\":\n",
    "        answers_lr_boolean.append(1)\n",
    "    elif value.lower() == \"no\":\n",
    "        answers_lr_boolean.append(0)\n",
    "print(answers_lr_boolean)"
   ]
  },
  {
   "cell_type": "code",
   "execution_count": 224,
   "id": "d97c3f69-f386-4f3d-9b67-c114e6e073d7",
   "metadata": {},
   "outputs": [],
   "source": [
    "#split this section into two ten question scale \n",
    "questions_cb1={\n",
    "    \"q_cb1\": \"Does the syllabus contain the instructor's pronouns?\",\n",
    "    \"q_cb2\": \"Does the syllabus have TA or GA's pronounce listed?\",\n",
    "    \"q_cb3\": \"Does the syllabus have an explaination of why pronous is important?\",\n",
    "    \"q_cb4\": \"Does the syllabus have any resources listed to explain why pronous are important?\",\n",
    "    \"q_cb5\": \"Are student life resources available to students, such as counseling services, bias incident report, diversity and inclusion office, LGBTQ resources, international student services?\",\n",
    "    \"q_cb6\": \"Are cultural and religious holidays acknowledged or accommodated in the course (referring to holidays beyond University Academic Calendar, e.g. Yom Kippur, Ramadan, Lunar New Year, etc.)?\",\n",
    "    \"q_cb7\": \"Is there an attempt to explain why course materials were chosen and/or how diverse authors/research content are included in course content?\",\n",
    "    \"q_cb8\": \"Does the syllabus have a Diversity or Educational Equity statement?\",\n",
    "    \"q_cb9\": \"Does the syllabus have a Land Acknowledgement statement?\"\n",
    "}"
   ]
  },
  {
   "cell_type": "code",
   "execution_count": 225,
   "id": "3f60e318-ef5f-4342-b582-39c14f55f72d",
   "metadata": {},
   "outputs": [],
   "source": [
    "def ask_questions(questions, text):\n",
    "\n",
    "\n",
    "    for question in questions:\n",
    "        prompt=f'''\n",
    "        Instructions:\n",
    "        You are a curriculum evaluator. Your task is to evaluate the elements of inclusive teaching in a syllabus by answering predefined questions. \n",
    "        You will need to read the text from beginning to end. You will respond to these questions related to elements of inclusive teaching with [Yes, No] as the final answer.\n",
    "        A careful decision must be made, and no other output is accepted. Input questions will be in a JSON container. \n",
    "        Output answers will also be in a mandatory JSON format using only curly brackets. Do not include any other symbols or words in the answers.\n",
    "        \n",
    "        --- IMPORTANT --- \n",
    "        You are only assessing the **current document provided**.  \n",
    "        1️⃣ You **must not** refer to or remember any previous document.  \n",
    "        2️⃣ Your answers should be **exclusively based** on the evidence found in **this document**.  \n",
    "        3️⃣ If you do not find the evidence, respond with \"No\" and cite \"Not found in the document.\"  \n",
    "\n",
    "        --- FORMAT RULES --- \n",
    "        - Answer each question with \"Yes\" or \"No\" based solely on the content of the document.  \n",
    "        - For each answer, provide a `reference` that points directly to the content in the document that supports your decision.  \n",
    "        - If the answer is \"No,\" still provide a `reference` indicating that the evidence is not present.  \n",
    "\n",
    "        --- SEARCH STRATEGY ---\n",
    "        When searching for:\n",
    "        - **Diversity or Educational Equity statement** → Also search for similar statements like these:\n",
    "          - \"Diversity Commitment\"\n",
    "          - \"Equity and Inclusion Statement\"\n",
    "          - \"Social Justice Statement\"\n",
    "          - \"Educational Equity Commitment\"\n",
    "        - **Land Acknowledgement statement** → Also search for:\n",
    "          - \"Territorial Acknowledgement\"\n",
    "          - \"Indigenous Land Recognition\"\n",
    "          - \"Acknowledgement of Indigenous Territory\"\n",
    "          - \"We acknowledge the ancestral lands of...\"\n",
    "        Example output format:\n",
    "            Input: {{\"question 1\": \"Is the language in this document inclusive?\", \"question 2\": \"Are there additional free materials listed for the course?\",...}}\n",
    "            Output: {{\"q_eo1\": {{\"answer\": \"Yes\", \"reference\": \"Textbook reference or details here\"}}, \"q_eo2\": {{\"answer\": \"No\", \"reference\": \"Details if any or 'None'\"}},...}}\n",
    "\n",
    "        \n",
    "        --- VERIFICATION STEP ---  \n",
    "        After processing each question, **double-check the evidence found** in the document to ensure it matches your answer.  \n",
    "        - If you identify any inconsistency or error during verification, **correct it immediately** before moving to the next question.  \n",
    "        - Only provide final output when you are confident the answers are accurate and directly evidence-based.\n",
    "\n",
    "        --- CAUTION ---  \n",
    "        Do not assume any context from previous documents. This is a fresh evaluation. All evidence must be contained in the provided text.\n",
    "        \n",
    "        '''\n",
    "\n",
    "        messages=[\n",
    "                {\"role\": \"system\", \"content\": prompt},\n",
    "                {\"role\": \"user\", \"content\": f\"Document Content: {extracted_text}\\n Question about the document: {questions}\"},\n",
    "            ]\n",
    "        #get answers from gpt\n",
    "        response=client.chat.completions.create(\n",
    "            model=\"gpt-4o-mini\", # or use gpt-4-1106-preview for better result\n",
    "            messages=messages,\n",
    "            seed=123,\n",
    "            temperature=0,\n",
    "        )\n",
    "        \n",
    "        time.sleep(1.5)  # Adjust this value if needed\n",
    "        answer=response.choices[0].message.content\n",
    "\n",
    "    return answer    \n",
    "        "
   ]
  },
  {
   "cell_type": "code",
   "execution_count": 226,
   "id": "f44fc3b4-282b-4391-8a88-d485e2b707ef",
   "metadata": {},
   "outputs": [
    {
     "name": "stdout",
     "output_type": "stream",
     "text": [
      "{\n",
      "    \"q_cb1\": {\"answer\": \"No\", \"reference\": \"Not found in the document.\"},\n",
      "    \"q_cb2\": {\"answer\": \"No\", \"reference\": \"Not found in the document.\"},\n",
      "    \"q_cb3\": {\"answer\": \"No\", \"reference\": \"Not found in the document.\"},\n",
      "    \"q_cb4\": {\"answer\": \"No\", \"reference\": \"Not found in the document.\"},\n",
      "    \"q_cb5\": {\"answer\": \"Yes\", \"reference\": \"The document mentions counseling services and provides contact information for Counseling and Psychological Services.\"},\n",
      "    \"q_cb6\": {\"answer\": \"No\", \"reference\": \"Not found in the document.\"},\n",
      "    \"q_cb7\": {\"answer\": \"No\", \"reference\": \"Not found in the document.\"},\n",
      "    \"q_cb8\": {\"answer\": \"Yes\", \"reference\": \"The document includes a statement about fostering a diverse and inclusive environment and mentions acts of intolerance and discrimination.\"},\n",
      "    \"q_cb9\": {\"answer\": \"No\", \"reference\": \"Not found in the document.\"}\n",
      "}\n"
     ]
    }
   ],
   "source": [
    "answers_cb1_json=ask_questions(questions_cb1, extracted_text)\n",
    "print(answers_cb1_json)"
   ]
  },
  {
   "cell_type": "code",
   "execution_count": 227,
   "id": "06eb8bc4-0fd6-4bf4-be4d-991fe5984085",
   "metadata": {},
   "outputs": [
    {
     "name": "stdout",
     "output_type": "stream",
     "text": [
      "{\n",
      "  \"q_cb1\": \"No\",\n",
      "  \"q_cb2\": \"No\",\n",
      "  \"q_cb3\": \"No\",\n",
      "  \"q_cb4\": \"No\",\n",
      "  \"q_cb5\": \"Yes\",\n",
      "  \"q_cb6\": \"No\",\n",
      "  \"q_cb7\": \"No\",\n",
      "  \"q_cb8\": \"Yes\",\n",
      "  \"q_cb9\": \"No\"\n",
      "}\n"
     ]
    }
   ],
   "source": [
    "answers_cb1_dic=json.loads(answers_cb1_json)\n",
    "answers_cb1_YN={key: value[\"answer\"] for key, value in answers_cb1_dic.items()}\n",
    "answers_cb1_YN=json.dumps(answers_cb1_YN, indent=2)\n",
    "print(answers_cb1_YN)"
   ]
  },
  {
   "cell_type": "code",
   "execution_count": 228,
   "id": "83a8feaf-acc1-4540-9a27-4c6d06dc9ae9",
   "metadata": {},
   "outputs": [
    {
     "name": "stdout",
     "output_type": "stream",
     "text": [
      "[0, 0, 0, 0, 1, 0, 0, 1, 0]\n"
     ]
    }
   ],
   "source": [
    "answers_cb1_boolean=[]\n",
    "answer_cb1=json.loads(answers_cb1_YN)\n",
    "for value in answer_cb1.values():\n",
    "    if value.lower() == \"yes\":\n",
    "        answers_cb1_boolean.append(1)\n",
    "    elif value.lower() == \"no\":\n",
    "        answers_cb1_boolean.append(0)\n",
    "print(answers_cb1_boolean)"
   ]
  },
  {
   "cell_type": "code",
   "execution_count": 229,
   "id": "e2f2f0bc-d428-4b9a-aceb-06205fc84041",
   "metadata": {},
   "outputs": [],
   "source": [
    "#split this section into two ten question scale \n",
    "questions_cb2={\n",
    "    \"q_cb10\": \"Does the syllabus have the Disability Accommodations Statement?\",\n",
    "    \"q_cb11\": \"Does the syllabus have the Acknowledgement of Intersectionality statement?\",\n",
    "    \"q_cb12\": \"Does the syllabus have the Mandated Reporting or Bias Reporting statement?\",\n",
    "    \"q_cb13\": \"Does the syllabus have the Non-discrimination statement?\",\n",
    "    \"q_cb14\": \"Does the course offer any additional free course materials, or recommended reading list, or other online resources or resources in the library, etc?\",\n",
    "    \"q_cb15\": \"Are individual sections separated by headers?\",\n",
    "    \"q_cb16\": \"Overall, is the syllabus easy to follow? Meaning if there is a clear structure, titles of sections, language is easy to understand, logic is clear and content is not confusing\",\n",
    "    \"q_cb17\": \"Is there a method used to assess students’ personal background (e.g., questionnaire, quiz, etc.)?\",\n",
    "    \"q_cb18\": \"Is there a method used to assess students’ preferences for topics to be covered throughout the course (e.g., questionnaire, quiz, etc.)?\",\n",
    "    \"q_cb19\": \"Is there a way for students to provide feedback about the course, such as polling, survey, questionaire about student feedback of the course?\"\n",
    "}\n"
   ]
  },
  {
   "cell_type": "code",
   "execution_count": 230,
   "id": "25d765df-a276-4d7c-806c-ac7d55ea2a06",
   "metadata": {},
   "outputs": [],
   "source": [
    "def ask_questions(questions, text):\n",
    "\n",
    "\n",
    "    for question in questions:\n",
    "        prompt=f'''\n",
    "        Instructions:\n",
    "        You are a curriculum evaluator. Your task is to evaluate the elements of inclusive teaching in a syllabus by answering predefined questions. \n",
    "        You will need to read the text from beginning to end. You will respond to these questions related to elements of inclusive teaching with [Yes, No] as the final answer.\n",
    "        A careful decision must be made, and no other output is accepted. Input questions will be in a JSON container. \n",
    "        Output answers will also be in a mandatory JSON format using only curly brackets. Do not include any other symbols or words in the answers.\n",
    "        \n",
    "        --- IMPORTANT --- \n",
    "        You are only assessing the **current document provided**.  \n",
    "        1️⃣ You **must not** refer to or remember any previous document.  \n",
    "        2️⃣ Your answers should be **exclusively based** on the evidence found in **this document**.  \n",
    "        3️⃣ If you do not find the evidence, respond with \"No\" and cite \"Not found in the document.\"  \n",
    "\n",
    "        --- FORMAT RULES --- \n",
    "        - Answer each question with \"Yes\" or \"No\" based solely on the content of the document.  \n",
    "        - For each answer, provide a `reference` that points directly to the content in the document that supports your decision.  \n",
    "        - If the answer is \"No,\" still provide a `reference` indicating that the evidence is not present.  \n",
    "\n",
    "        \n",
    "        Example output format:\n",
    "            Input: {{\"question 1\": \"Is the language in this document inclusive?\", \"question 2\": \"Are there additional free materials listed for the course?\",...}}\n",
    "            Output: {{\"q_eo1\": {{\"answer\": \"Yes\", \"reference\": \"Textbook reference or details here\"}}, \"q_eo2\": {{\"answer\": \"No\", \"reference\": \"Details if any or 'None'\"}},...}}\n",
    "\n",
    "        \n",
    "        --- VERIFICATION STEP ---  \n",
    "        After processing each question, **double-check the evidence found** in the document to ensure it matches your answer.  \n",
    "        - If you identify any inconsistency or error during verification, **correct it immediately** before moving to the next question.  \n",
    "        - Only provide final output when you are confident the answers are accurate and directly evidence-based.\n",
    "\n",
    "        --- CAUTION ---  \n",
    "        Do not assume any context from previous documents. This is a fresh evaluation. All evidence must be contained in the provided text.\n",
    "        '''\n",
    "\n",
    "        messages=[\n",
    "                {\"role\": \"system\", \"content\": prompt},\n",
    "                {\"role\": \"user\", \"content\": f\"Document Content: {extracted_text}\\n Question about the document: {questions}\"},\n",
    "            ]\n",
    "        #get answers from gpt\n",
    "        response=client.chat.completions.create(\n",
    "            model=\"gpt-4o-mini\", # or use gpt-4omini\n",
    "            messages=messages,\n",
    "            seed=123,\n",
    "            temperature=0,\n",
    "        )\n",
    "         \n",
    "        time.sleep(1.5)  # Adjust this value if needed\n",
    "        answer=response.choices[0].message.content\n",
    "\n",
    "    return answer    \n",
    "        "
   ]
  },
  {
   "cell_type": "code",
   "execution_count": 231,
   "id": "4acccc49-80f7-4aec-b70d-022ed4865438",
   "metadata": {},
   "outputs": [
    {
     "name": "stdout",
     "output_type": "stream",
     "text": [
      "{\n",
      "    \"q_cb10\": {\"answer\": \"Yes\", \"reference\": \"The syllabus includes a Disability Policy that encourages students to discuss any issues preventing their success.\"},\n",
      "    \"q_cb11\": {\"answer\": \"No\", \"reference\": \"Not found in the document.\"},\n",
      "    \"q_cb12\": {\"answer\": \"No\", \"reference\": \"Not found in the document.\"},\n",
      "    \"q_cb13\": {\"answer\": \"Yes\", \"reference\": \"The syllabus states that acts of intolerance, discrimination, or harassment are not tolerated.\"},\n",
      "    \"q_cb14\": {\"answer\": \"No\", \"reference\": \"Not found in the document.\"},\n",
      "    \"q_cb15\": {\"answer\": \"Yes\", \"reference\": \"Sections are clearly separated by headers such as 'Course Description', 'Grading', 'In-Class Participation', etc.\"},\n",
      "    \"q_cb16\": {\"answer\": \"Yes\", \"reference\": \"The syllabus has a clear structure with titles of sections, easy-to-understand language, and logical content.\"},\n",
      "    \"q_cb17\": {\"answer\": \"No\", \"reference\": \"Not found in the document.\"},\n",
      "    \"q_cb18\": {\"answer\": \"No\", \"reference\": \"Not found in the document.\"},\n",
      "    \"q_cb19\": {\"answer\": \"Yes\", \"reference\": \"The syllabus includes a feedback mechanism for students to provide feedback on the course throughout the semester.\"}\n",
      "}\n"
     ]
    }
   ],
   "source": [
    "answers_cb2_json=ask_questions(questions_cb2, extracted_text)\n",
    "print(answers_cb2_json)"
   ]
  },
  {
   "cell_type": "code",
   "execution_count": 232,
   "id": "5913c39a-3c26-45a5-8d1a-bfd13efa3509",
   "metadata": {},
   "outputs": [
    {
     "name": "stdout",
     "output_type": "stream",
     "text": [
      "{\n",
      "  \"q_cb10\": \"Yes\",\n",
      "  \"q_cb11\": \"No\",\n",
      "  \"q_cb12\": \"No\",\n",
      "  \"q_cb13\": \"Yes\",\n",
      "  \"q_cb14\": \"No\",\n",
      "  \"q_cb15\": \"Yes\",\n",
      "  \"q_cb16\": \"Yes\",\n",
      "  \"q_cb17\": \"No\",\n",
      "  \"q_cb18\": \"No\",\n",
      "  \"q_cb19\": \"Yes\"\n",
      "}\n"
     ]
    }
   ],
   "source": [
    "answers_cb2_dic=json.loads(answers_cb2_json)\n",
    "answers_cb2_YN={key: value[\"answer\"] for key, value in answers_cb2_dic.items()}\n",
    "answers_cb2_YN=json.dumps(answers_cb2_YN, indent=2)\n",
    "print(answers_cb2_YN)"
   ]
  },
  {
   "cell_type": "code",
   "execution_count": 233,
   "id": "0539130a-d701-4d42-b62d-d48f00efee81",
   "metadata": {},
   "outputs": [
    {
     "name": "stdout",
     "output_type": "stream",
     "text": [
      "[1, 0, 0, 1, 0, 1, 1, 0, 0, 1]\n"
     ]
    }
   ],
   "source": [
    "answers_cb2_boolean=[]\n",
    "answer_cb2=json.loads(answers_cb2_YN)\n",
    "for value in answer_cb2.values():\n",
    "    if value.lower() == \"yes\":\n",
    "        answers_cb2_boolean.append(1)\n",
    "    elif value.lower() == \"no\":\n",
    "        answers_cb2_boolean.append(0)\n",
    "print(answers_cb2_boolean)"
   ]
  },
  {
   "cell_type": "code",
   "execution_count": 234,
   "id": "75fd4163-87e1-4d42-b032-a15cf06d31d1",
   "metadata": {},
   "outputs": [],
   "source": [
    "answers_cb_boolean = answers_cb1_boolean + answers_cb2_boolean"
   ]
  },
  {
   "cell_type": "code",
   "execution_count": 235,
   "id": "e1e45e53-cb53-418e-bb6f-97f1d31df77c",
   "metadata": {},
   "outputs": [],
   "source": [
    "questions_ds={\n",
    "    \"q_ds1\": \"Are reading materials reflect any types of diverse population?\",\n",
    "    \"q_ds2\": \"Are reading materials reflect work of under represented scholars? \",\n",
    "    \"q_ds3\": \"Is there a statement about the importance of studying diverse research literature and perspectives?\",\n",
    "    \"q_ds4\": \"Is there an acknowledgement about the importance of historical context when reading research?\",\n",
    "    \"q_ds5\": \"Is there an acknowledgement that the literature is often non-inclusive?\"\n",
    "}"
   ]
  },
  {
   "cell_type": "code",
   "execution_count": 236,
   "id": "7724fd9a-54a1-47e7-8ba5-2398657861e7",
   "metadata": {},
   "outputs": [],
   "source": [
    "def ask_questions(questions, text):\n",
    "\n",
    "\n",
    "    for question in questions:\n",
    "        prompt=f'''\n",
    "        Instructions:\n",
    "        You are a curriculum evaluator. Your task is to evaluate the elements of inclusive teaching in a syllabus by answering predefined questions. \n",
    "        You will need to read the text from beginning to end. You will respond to these questions related to elements of inclusive teaching with [Yes, No] as the final answer.\n",
    "        A careful decision must be made, and no other output is accepted. Input questions will be in a JSON container. \n",
    "        Output answers will also be in a mandatory JSON format using only curly brackets. Do not include any other symbols or words in the answers.\n",
    "        \n",
    "        --- IMPORTANT --- \n",
    "        You are only assessing the **current document provided**.  \n",
    "        1️⃣ You **must not** refer to or remember any previous document.  \n",
    "        2️⃣ Your answers should be **exclusively based** on the evidence found in **this document**.  \n",
    "        3️⃣ If you do not find the evidence, respond with \"No\" and cite \"Not found in the document.\"  \n",
    "\n",
    "        --- FORMAT RULES --- \n",
    "        - Answer each question with \"Yes\" or \"No\" based solely on the content of the document.  \n",
    "        - For each answer, provide a `reference` that points directly to the content in the document that supports your decision.  \n",
    "        - If the answer is \"No,\" still provide a `reference` indicating that the evidence is not present.  \n",
    "\n",
    "        \n",
    "        Example output format:\n",
    "            Input: {{\"question 1\": \"Is the language in this document inclusive?\", \"question 2\": \"Are there additional free materials listed for the course?\",...}}\n",
    "            Output: {{\"q_eo1\": {{\"answer\": \"Yes\", \"reference\": \"Textbook reference or details here\"}}, \"q_eo2\": {{\"answer\": \"No\", \"reference\": \"Details if any or 'None'\"}},...}}\n",
    "\n",
    "        \n",
    "        --- VERIFICATION STEP ---  \n",
    "        After processing each question, **double-check the evidence found** in the document to ensure it matches your answer.  \n",
    "        - If you identify any inconsistency or error during verification, **correct it immediately** before moving to the next question.  \n",
    "        - Only provide final output when you are confident the answers are accurate and directly evidence-based.\n",
    "\n",
    "        --- CAUTION ---  \n",
    "        Do not assume any context from previous documents. This is a fresh evaluation. All evidence must be contained in the provided text.\n",
    "        '''\n",
    "\n",
    "        messages=[\n",
    "                {\"role\": \"system\", \"content\": prompt},\n",
    "                {\"role\": \"user\", \"content\": f\"Document Content: {extracted_text}\\n Question about the document: {questions}\"},\n",
    "            ]\n",
    "        #get answers from gpt\n",
    "        response=client.chat.completions.create(\n",
    "            model=\"gpt-4o-mini\", # or use gpt-4-1106-preview for better result\n",
    "            messages=messages,\n",
    "            seed=123,\n",
    "            temperature=0,\n",
    "        )\n",
    "\n",
    "        time.sleep(1.5)  # Adjust this value if needed\n",
    "        answer=response.choices[0].message.content\n",
    "\n",
    "    return answer    \n",
    "        "
   ]
  },
  {
   "cell_type": "code",
   "execution_count": 237,
   "id": "704e3c19-d2f4-4ba6-863c-0b5a0d6c3dda",
   "metadata": {},
   "outputs": [
    {
     "name": "stdout",
     "output_type": "stream",
     "text": [
      "{\n",
      "    \"q_ds1\": {\"answer\": \"No\", \"reference\": \"Not found in the document.\"},\n",
      "    \"q_ds2\": {\"answer\": \"No\", \"reference\": \"Not found in the document.\"},\n",
      "    \"q_ds3\": {\"answer\": \"No\", \"reference\": \"Not found in the document.\"},\n",
      "    \"q_ds4\": {\"answer\": \"No\", \"reference\": \"Not found in the document.\"},\n",
      "    \"q_ds5\": {\"answer\": \"No\", \"reference\": \"Not found in the document.\"}\n",
      "}\n"
     ]
    }
   ],
   "source": [
    "answers_ds_json=ask_questions(questions_ds, extracted_text)\n",
    "print(answers_ds_json)"
   ]
  },
  {
   "cell_type": "code",
   "execution_count": 238,
   "id": "38eea96e-57c5-4c3d-ac99-e5527c8211de",
   "metadata": {},
   "outputs": [
    {
     "name": "stdout",
     "output_type": "stream",
     "text": [
      "{\n",
      "  \"q_ds1\": \"No\",\n",
      "  \"q_ds2\": \"No\",\n",
      "  \"q_ds3\": \"No\",\n",
      "  \"q_ds4\": \"No\",\n",
      "  \"q_ds5\": \"No\"\n",
      "}\n"
     ]
    }
   ],
   "source": [
    "answers_ds_dic=json.loads(answers_ds_json)\n",
    "answers_ds_YN={key: value[\"answer\"] for key, value in answers_ds_dic.items()}\n",
    "answers_ds_YN=json.dumps(answers_ds_YN, indent=2)\n",
    "print(answers_ds_YN)"
   ]
  },
  {
   "cell_type": "code",
   "execution_count": 239,
   "id": "5f995876-8662-43d2-8de4-7b766aabbf0a",
   "metadata": {},
   "outputs": [
    {
     "name": "stdout",
     "output_type": "stream",
     "text": [
      "[0, 0, 0, 0, 0]\n"
     ]
    }
   ],
   "source": [
    "answers_ds_boolean=[]\n",
    "answer_ds=json.loads(answers_ds_YN)\n",
    "for value in answer_ds.values():\n",
    "    if value.lower() == \"yes\":\n",
    "        answers_ds_boolean.append(1)\n",
    "    elif value.lower() == \"no\":\n",
    "        answers_ds_boolean.append(0)\n",
    "print(answers_ds_boolean)"
   ]
  },
  {
   "cell_type": "code",
   "execution_count": 240,
   "id": "a0a9b643-0029-4265-8d27-ae4e07346820",
   "metadata": {},
   "outputs": [],
   "source": [
    "#final boolean by category for recalculation of percentages\n",
    "\n",
    "# answers_eo_boolean=[1, 1, 1, 1, 1, 1, 1, 1, 0, 1, 1, 1]\n",
    "# answers_ex_boolean=[1, 1, 1, 1, 1, 0]\n",
    "# answers_gm_boolean=[1, 1, 1, 0, 0, 1, 1, 1, 1, 1, 1]\n",
    "# answers_la_boolean=[1, 0, 0, 0, 1, 0, 1, 1, 0, 1, 1, 1, 1, 1, 1, 1]\n",
    "# answers_rt_boolean=[1, 1, 1, 1, 0, 1, 1, 1, 1, 1, 1, 0]\n",
    "# answers_lr_boolean=[1, 1, 1, 1, 1, 1, 1]\n",
    "# answers_cb_boolean=[1, 0, 0, 0, 1, 0, 0, 0, 0, 1, 0, 1, 0, 1, 1, 1, 0, 0, 1]\n",
    "# answers_ds_boolean=[0, 0, 0, 0, 0]\n"
   ]
  },
  {
   "cell_type": "code",
   "execution_count": 241,
   "id": "e7346cb3-ae2c-42fd-aed5-b8ec81149406",
   "metadata": {},
   "outputs": [],
   "source": [
    "boolean_answers = answers_eo_boolean + answers_ex_boolean + answers_gm_boolean + answers_la_boolean + answers_rt_boolean + answers_lr_boolean + answers_cb_boolean + answers_ds_boolean"
   ]
  },
  {
   "cell_type": "code",
   "execution_count": 242,
   "id": "6858181d-5819-4d91-903f-c249dcf7f405",
   "metadata": {},
   "outputs": [
    {
     "name": "stdout",
     "output_type": "stream",
     "text": [
      "[0, 1, 1, 1, 1, 1, 0, 0, 0, 1, 1, 1, 0, 1, 1, 0, 1, 1, 1, 0, 0, 1, 1, 1, 0, 1, 0, 1, 1, 0, 0, 0, 1, 0, 0, 0, 0, 0, 1, 0, 1, 1, 0, 0, 1, 0, 0, 0, 0, 1, 0, 1, 0, 0, 0, 1, 1, 1, 0, 1, 0, 0, 0, 0, 0, 0, 0, 0, 1, 0, 0, 1, 0, 1, 0, 0, 1, 0, 1, 1, 0, 0, 1, 0, 0, 0, 0, 0]\n"
     ]
    }
   ],
   "source": [
    "print(boolean_answers)"
   ]
  },
  {
   "cell_type": "code",
   "execution_count": 243,
   "id": "37da2746-91fa-4ac9-9d87-77f3c04dadce",
   "metadata": {},
   "outputs": [],
   "source": [
    "with open(r'C:\\Users\\lixia\\OneDrive - The Pennsylvania State University\\School\\Dissertation\\Instructor Lit\\Phase I Interview\\ChatGPT\\Outfile.csv', \"w\") as outfile:\n",
    "    for i in boolean_answers:\n",
    "        outfile.write(f\"{i}\\n\")"
   ]
  },
  {
   "cell_type": "code",
   "execution_count": 244,
   "id": "bc1bc19b-37a9-4eb4-bb3c-525cfcfc619d",
   "metadata": {},
   "outputs": [],
   "source": [
    "answer_df.insert(loc=4, column='Values', value=boolean_answers)"
   ]
  },
  {
   "cell_type": "code",
   "execution_count": 257,
   "id": "261390e8-6505-464e-be09-ae2a072998bd",
   "metadata": {},
   "outputs": [],
   "source": [
    "# boolean_answers=df_psych231['Values'].to_list()"
   ]
  },
  {
   "cell_type": "code",
   "execution_count": 258,
   "id": "8fdbecfd-a58b-481f-9494-91bc01503a00",
   "metadata": {},
   "outputs": [],
   "source": [
    "#psych231 boolean by category \n",
    "\n",
    "# answers_eo_boolean=boolean_answers[0: 11]\n",
    "# answers_ex_boolean=boolean_answers[12: 17]\n",
    "# answers_gm_boolean=boolean_answers[18: 27]\n",
    "# answers_la_boolean=boolean_answers[28: 43]\n",
    "# answers_rt_boolean=boolean_answers[44: 55]\n",
    "# answers_lr_boolean=boolean_answers[56: 62]\n",
    "# answers_cb_boolean=boolean_answers[63: 67]\n",
    "# answers_in_boolean=boolean_answers[68: 81]\n",
    "# answers_ds_boolean=boolean_answers[82: 86]"
   ]
  },
  {
   "cell_type": "code",
   "execution_count": 245,
   "id": "5ded52b7-1985-448f-bf43-7b319053ec09",
   "metadata": {},
   "outputs": [],
   "source": [
    "answer_df.to_csv(r'C:\\Users\\lixia\\OneDrive - The Pennsylvania State University\\School\\Dissertation\\Instructor Lit\\Phase I Interview\\ChatGPT\\Out.csv', index=False)"
   ]
  },
  {
   "cell_type": "code",
   "execution_count": null,
   "id": "42ea1269-623f-44fb-82bc-9bbc6c617b5d",
   "metadata": {},
   "outputs": [],
   "source": [
    "#define dictionary \n",
    "categories={\n",
    "    \"eo\": answers_eo_boolean,\n",
    "    \"ex\": answers_ex_boolean,\n",
    "    \"gm\": answers_gm_boolean,\n",
    "    \"la\": answers_la_boolean,\n",
    "    \"rt\": answers_rt_boolean, #change it to rt later\n",
    "    \"lr\": answers_lr_boolean,\n",
    "    \"cb\": answers_cb_boolean,\n",
    "    \"ds\": answers_ds_boolean\n",
    "}"
   ]
  },
  {
   "cell_type": "code",
   "execution_count": null,
   "id": "ae9774b8-0182-4ed4-b56b-043c0a95800c",
   "metadata": {},
   "outputs": [],
   "source": [
    "def calculate_percengate(values):\n",
    "    total=len(values)\n",
    "    count_ones=values.count(1)\n",
    "    percentage_ones=count_ones/total\n",
    "    percentage_zeros=1-percentage_ones\n",
    "    return round(percentage_ones, 2), round(percentage_zeros, 2)"
   ]
  },
  {
   "cell_type": "code",
   "execution_count": null,
   "id": "1295af70-133c-447e-bb70-fd2ebf020441",
   "metadata": {},
   "outputs": [],
   "source": [
    "percentage_ones_dict={}\n",
    "percentage_zeros_dict={} "
   ]
  },
  {
   "cell_type": "code",
   "execution_count": null,
   "id": "69614639-d5f6-40c2-ac12-627753d8c55a",
   "metadata": {},
   "outputs": [],
   "source": [
    "for category, values in categories.items(): #categories.items refers to key and value\n",
    "    percentage_ones, percentage_zeros = calculate_percengate(values)\n",
    "    percentage_ones_dict[category]=percentage_ones\n",
    "    percentage_zeros_dict[category]=percentage_zeros"
   ]
  },
  {
   "cell_type": "code",
   "execution_count": null,
   "id": "1063627f-05c7-447f-be16-ce5c8d5a5f22",
   "metadata": {},
   "outputs": [],
   "source": [
    "print(percentage_ones_dict)\n",
    "print(percentage_zeros_dict)"
   ]
  },
  {
   "cell_type": "code",
   "execution_count": null,
   "id": "cd57791b-42fd-4429-aacb-17094af8f84f",
   "metadata": {},
   "outputs": [],
   "source": [
    "percentage_ones=list(percentage_ones_dict.values())\n",
    "percentage_zeros=list(percentage_zeros_dict.values())"
   ]
  },
  {
   "cell_type": "code",
   "execution_count": null,
   "id": "d9e7c371-ac91-4a71-93f1-c90c927e8afa",
   "metadata": {
    "scrolled": true
   },
   "outputs": [],
   "source": [
    "print(percentage_ones)\n",
    "print(percentage_zeros)"
   ]
  },
  {
   "cell_type": "code",
   "execution_count": null,
   "id": "c84bd394-732d-46cc-b206-1448652b60ef",
   "metadata": {},
   "outputs": [],
   "source": [
    "\n",
    "\n",
    "# write percengates to of numbers\n",
    "\n",
    "# Specify the file name\n",
    "file_name = r'C:\\Users\\lixia\\OneDrive - The Pennsylvania State University\\School\\Dissertation\\Instructor Lit\\Phase I Interview\\ChatGPT\\percent.json'\n",
    "percent_dict={\n",
    "    \"percentage_ones\": percentage_ones,\n",
    "    \"percentage_zeros\": percentage_zeros\n",
    "}\n",
    "# Write the list to a file in JSON format\n",
    "with open(file_name, 'w') as file:\n",
    "    json.dump(percent_dict, file)\n",
    "\n",
    "print(f\"Numbers have been written to {file_name}\")"
   ]
  },
  {
   "cell_type": "code",
   "execution_count": null,
   "id": "290d63db-b44a-4db1-ada9-2518ced4fa00",
   "metadata": {},
   "outputs": [],
   "source": [
    "yes_percentages_v2=[proportion * 100 for proportion in percentage_ones]\n",
    "no_percentages_v2=[proportion * 100 for proportion in percentage_zeros]"
   ]
  },
  {
   "cell_type": "code",
   "execution_count": null,
   "id": "db2809bc-80d8-4567-9fb2-8a33e3ca8d1c",
   "metadata": {},
   "outputs": [],
   "source": [
    "#use regular expression to extract file name\n",
    "match=re.search(r'\\\\([^\\\\]+)\\.pdf$', pdf_file_path)\n",
    "\n",
    "if match: \n",
    "    course_title = match.group(1)\n",
    "    print(course_title)\n",
    "else: \n",
    "    print(\"Course Title Not Found\")"
   ]
  },
  {
   "cell_type": "code",
   "execution_count": null,
   "id": "f4a960f6-c01f-49db-94f5-6d36fa0c2de8",
   "metadata": {},
   "outputs": [],
   "source": [
    "print(match)"
   ]
  },
  {
   "cell_type": "code",
   "execution_count": null,
   "id": "96e86154-28da-47c5-ab2a-15167b17d94c",
   "metadata": {},
   "outputs": [],
   "source": [
    "categories = ['Engagement Opportunities', 'Exploration', 'Growth Mindset', 'Learning Assessment', 'Requirements Transparency', 'Learning Resources', 'Cultivate Belonging', 'Inclusivity', 'Diversity Scholarships']"
   ]
  },
  {
   "cell_type": "code",
   "execution_count": null,
   "id": "74c0b8d7-9d91-4ffc-a5ad-80d501bf5559",
   "metadata": {},
   "outputs": [],
   "source": [
    "df_course=pd.DataFrame(\n",
    "    {\n",
    "        \"category\": categories,\n",
    "        \"yes_percentage\": yes_percentages_v2,\n",
    "        \"no_percentage\": no_percentages_v2,\n",
    "        \"course\": course_title\n",
    "    }\n",
    ")"
   ]
  },
  {
   "cell_type": "code",
   "execution_count": null,
   "id": "b85f28ee-a25c-484d-9f39-3fcbd9574c76",
   "metadata": {},
   "outputs": [],
   "source": [
    "df_course=df_course.replace(to_replace={'course':'PSYCH231'}, value='PSYCH231')\n",
    "df_course"
   ]
  },
  {
   "cell_type": "code",
   "execution_count": null,
   "id": "a687cec0-1508-441c-8bb9-b6994cf27d9c",
   "metadata": {},
   "outputs": [],
   "source": [
    "df_course.to_csv(r'C:\\Users\\lixia\\OneDrive - The Pennsylvania State University\\School\\Dissertation\\Instructor Lit\\Phase I Interview\\ChatGPT\\course.csv', index=False)"
   ]
  },
  {
   "cell_type": "code",
   "execution_count": 1,
   "id": "67157764-1356-4b6a-ba25-b091858ed0a1",
   "metadata": {},
   "outputs": [],
   "source": [
    "import csv\n",
    "import json\n",
    "import firebase_admin\n",
    "from firebase_admin import credentials, db"
   ]
  },
  {
   "cell_type": "code",
   "execution_count": 2,
   "id": "458d8140-ae08-4506-a0a2-47522357bbb6",
   "metadata": {},
   "outputs": [
    {
     "data": {
      "text/plain": [
       "<firebase_admin.App at 0x2cccbadbc20>"
      ]
     },
     "execution_count": 2,
     "metadata": {},
     "output_type": "execute_result"
    }
   ],
   "source": [
    "# Path to the service account key file\n",
    "cred = credentials.Certificate(r\"C:\\Users\\lixia\\Firebase\\inclusight-6e55a-firebase-adminsdk-vv1dg-d4cf053cda.json\")\n",
    "\n",
    "# Initialize the Firebase app (for Firestore and Realtime Database)\n",
    "firebase_admin.initialize_app(cred, {\n",
    "    'databaseURL': 'https://inclusight-6e55a-default-rtdb.firebaseio.com/'  # Realtime Database URL\n",
    "})\n"
   ]
  },
  {
   "cell_type": "code",
   "execution_count": 1,
   "id": "3de02fdb-af28-494c-8960-fd917c907b47",
   "metadata": {},
   "outputs": [
    {
     "ename": "SyntaxError",
     "evalue": "invalid syntax (586152860.py, line 1)",
     "output_type": "error",
     "traceback": [
      "\u001b[1;36m  Cell \u001b[1;32mIn[1], line 1\u001b[1;36m\u001b[0m\n\u001b[1;33m    jupyter nbconvert --ClearMetadataPreprocessor.enabled=True --inplace your_notebook.ipynb\u001b[0m\n\u001b[1;37m            ^\u001b[0m\n\u001b[1;31mSyntaxError\u001b[0m\u001b[1;31m:\u001b[0m invalid syntax\n"
     ]
    }
   ],
   "source": [
    "jupyter nbconvert --ClearMetadataPreprocessor.enabled=True --inplace your_notebook.ipynb\n"
   ]
  },
  {
   "cell_type": "code",
   "execution_count": null,
   "id": "f97b2899-34be-46d4-a6a5-846519ac7d2b",
   "metadata": {},
   "outputs": [],
   "source": []
  }
 ],
 "metadata": {
  "kernelspec": {
   "display_name": "Python (myvenv)",
   "language": "python",
   "name": "myvenv"
  },
  "language_info": {
   "codemirror_mode": {
    "name": "ipython",
    "version": 3
   },
   "file_extension": ".py",
   "mimetype": "text/x-python",
   "name": "python",
   "nbconvert_exporter": "python",
   "pygments_lexer": "ipython3",
   "version": "3.12.3"
  }
 },
 "nbformat": 4,
 "nbformat_minor": 5
}
